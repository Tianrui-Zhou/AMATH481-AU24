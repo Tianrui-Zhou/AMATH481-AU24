{
 "cells": [
  {
   "cell_type": "markdown",
   "metadata": {
    "id": "FvCKNWpSny00"
   },
   "source": [
    "<h1>\n",
    "<center>CFRM 421 Group Project\n",
    "\n",
    "\n",
    "<h1>\n",
    "<center>Prediction of Stock Price Changes of Dow Jones Index and Stocks</center>\n",
    "</h1>\n",
    "\n",
    "* **Group Members:\n",
    "Charlie Yin,\n",
    "Tianrui Zhou,\n",
    "Sayako Mitchell**\n",
    "\n",
    "* In this report, we will firstly give an introduction of our project and data set. Then, we will explain how we preprocessed our data. The existing literature and introduction of every model (as well as the algorithm) will also be covered. We will finally talk about our results and conclude our findings, and we will also point out some possible future research directions in the end.\n",
    "\n",
    "* Every member in this group are highly envolved and we're all responsible for this project. Behind each section name, the name of the editor will be clearly listed out. *Charlie Yin*\n"
   ]
  },
  {
   "cell_type": "markdown",
   "metadata": {
    "id": "f_UiG_PooMWy"
   },
   "source": [
    "# 1. Introduction (*Tianrui Zhou*)\n",
    "\n",
    "Nowadays, the technology industry is a hot topic, and many tech stocks have outstanding performance among all the stocks. In this project, our primary objective is to predict the percentage change in the closing prices of  3 chosen stocks from the technology industry of the Dow Jones Index and compare the predictions with the predicted Dow Jones Index Average performance.\n",
    "Each team member experiments with a different regression model— Recurrent Neural Network Model (RNN), Support Vector Machine regression(SVM), and Random Forest Regressor—to predict the percentage change in closing prices for the three top-performing tech stocks and Index Average.\n",
    "The aim is to determine if specific stocks outperform the Index Average according to our predictions using three different machine learning models, and compare the result with the real value, which can reveal which model performs the best. Our methodology is structured into six comprehensive steps:\n",
    "\n",
    "**Step 1:** Find the top 3 technology stocks that outperform the DJIA index most.\n",
    "\n",
    "**Step 2:** For each model, hyperparameter tune only on the top outperform stock “MSFT” that we just found in step 1. Use the resulting model with the best parameter to predict the percentage change of the stock “MSFT” of Friday, May 24th.\n",
    "\n",
    "**Step 3:** Use the best parameter, and retrain the model on the other two stocks and then do predictions like step 2.\n",
    "\n",
    "**Step 4:** Each person uses their own model for DJIA index, do hyperparameter tuning on DJIA data, and predict the percentage change of the Index Average's closing price for the same day.\n",
    "\n",
    "**Step 5:** For each model’s prediction result, we calculate the difference between the percentage Index Average price change and the percentage stock price change. Then, we calculate the real difference, which is the difference between the real price change of the Index Average and the real percentage change of the stock price observed on Friday, May 24th. We first check if the predicted difference and the real difference are in the same sign (positive or negative), which indicates if a stock outperforms the Index Average. Second, for each stock, we calculate the error, which is the absolute value of the difference between the real difference and the predicted difference, in order to evaluate the accuracy of each model.\n",
    "\n",
    "**Step 6:** For choosing the best model, we consider the difference between the real price change and the predicted price change Select the best model among the three based on the performance on step 5."
   ]
  },
  {
   "cell_type": "markdown",
   "metadata": {
    "id": "u1sQYk8L-ftK"
   },
   "source": [
    "# Existing Literature\n",
    "\n",
    "A large number of papers have been published on the topic of predicting the performance of stocks. Many of them use the same methods we will employ in this project.\n",
    "\n",
    "***Neural Network (Charlie Yin)***\n",
    "\n",
    "My insights into building the RNN-LSTM model are from the paper named” Stock Price Prediction using the RNN Model”  (https://iopscience.iop.org/article/10.1088/1742-6596/1650/3/032103/pdf )  by Yongqiong Zhu.  In this paper, Yongqiong built an RNN model with 2 layers and got great stock prediction performance. Our project is predicting the percentage change of price, which is slightly different, but this paper enlightens me on the application of RNN and its variants in prediction tasks. Combining what I learned from this class and from the paper by Yongqiong Zhu, I decided to try the RNN-LSTM model in our project.\n",
    "\n",
    "***Random Forest (Saya Mitchell)***\n",
    "\n",
    "Random Forest Regression is used to predict stock trends using historical data in papers such as “The Random Forest Model for Analyzing and Forecasting the US Stock Market in the Context of Smart Finance” (https://arxiv.org/pdf/2402.17194) by Jiajian Zhen, Duan Xin, Qishuo Chen, Miao Tian, and Le Yang. This paper found that random forest models can generate up to 85 to 95 percent accurate predictions. It should be noted that the authors of this paper used data preprocessing methods that are outside of the scope of this class, including exponential smoothing. However, the core tasks of this paper and our project are similar. Additionally, this project used data from technology and technology-adjacent stocks (Apple, Samsung, and General Electric), which further aligns with our project.\n",
    "\n",
    "***Support Vector Machines (Tianrui Zhou)***\n",
    "\n",
    "I encountered a paper called “Stock Price Prediction Using Support Vector Machine Approach” by Naliniprava Tripathy (https://www.dpublication.com/wp-content/uploads/2019/11/24-ME.pdf). In this paper, they are trying to predict the closing price of S&P BSE TECK index, and the resulting accuracy of the SVM regression model is about 60.2%. In this case, our project has similar goal. Therefore, SVM regressor may be a potential nice model to predict the stock price.\n"
   ]
  },
  {
   "cell_type": "markdown",
   "metadata": {
    "id": "1tzj47Cw5xeO"
   },
   "source": [
    "# Methods\n",
    "\n",
    "**Neural Network**\n",
    "\n",
    "Recurrent Neutral Network (RNN) model is a deep learning model that is trained to process and convert a sequential data input into a specific sequential data output. Time series data is one of the most frequently used data as “sequential data” in RNN model. Recurrent neural networks produce predictive results in sequential data that other algorithms can’t.\n",
    "Long Short-Time Memory Model can recall previous long-term time-series data and has automatic control for retaining relevant features or discarding irrelevant features in the cell state.\n",
    "\n",
    "In my model, I add one layer of Long Short-Time Memory layer with ReLu as an activation function to help the RNN model in maintaining and utilizing long-term information, expecting this can improve the performance of a simple RNN model.\n",
    "\n",
    "Before doing the hyperparameter tuning, I standardized the data to speed up the convergence and reshaped them to fit with the input shape of RNN layers. For hyperparameter tuning, I set reasonable choice of intervals for the learning rate and number of neurons on each layer, as well as the choice of optimizers (Momentum optimization, Nesterov Accelerated Gradient, Adam, NAdam, and AdamW). On the first layer (LSTM), activation is set by ReLu to avoid vanishing gradient, and on the second layer, activation is set by LeakyReLu. For each RNN layer, I set dropout and recurrent dropout as parameters involved in the tuning process.\n",
    "\n",
    "I did the hyperparameter tuning on data of Microsoft, and when applied to other stocks, I retrained them before doing the test and prediction. When applying the model to the index data, I re-do the hyperparameter tuning to find a model that can better fit with the Index’s characteristics. The code for hyperparameter tuning and training is modified from Lecture 17.\n",
    "\n",
    "\n",
    "**SVM**\n",
    "\n",
    "For the SVM regressor, my model would do hyperparameter training only on the top outperform stock “MSFT”, which is agreed among our group. And use this best parameter on the predictions of the other two stocks too.\n",
    "I first standardize the data, since it is very crucial to the SVM regressor. Then, I use RandomizedSearchCV to help me find the best parameter combination of my model. The best parameter types I am searching are “C”, “gamma”, and “kernel”. I use this model to first predict the percentage price change of the three stocks separately for May 24, 2024. For each model, I keep the parameter unchanged, but retrain using each stock’s training data in order to better fit the new stock and do better predictions.\n",
    "Second, I hyperparameter tune and train my model for the Index Average, and use the model with the best parameter to predict the percentage price change of the Index Average for May 24, 2024.\n",
    "Finally, for each stock among the three stocks, I get the difference between the predicted data for Index and stock for May 24, 2024, and I also calculate the difference between the real data for Index and stock for that day. The variable “error” stands for the absolute value of the difference between the real difference and the predicted difference.\n",
    "\n",
    "\n",
    "**Random Forest**\n",
    "\n",
    "The final method that will be implemented is the Random Forest Regressor. This is a tree-based method, which could potentially provide a nice counterpoint to the other methods used in this project. Random forest is appropriate for this task, as was demonstrated in Lecture 5 and Homework 2. From these, we know that random forest models can perform decently well at time series prediction tasks. Since this method is tree-based, no scaling or normalization is necessary, and none is implemented.\n",
    "\n",
    "We performed 3-fold cross validation and hyperparameter tuning over the hyperparameters maximum depth (max_depth) = 1, 5, 10, number of trees (n_estimators) = 10, 50, 100, 200, 400, complexity parameter for pruning (ccp_alpha) = 10e-1, 10e-3, 10e-5, 10e-7. Every combination of these hyperparameter values is tested to provide the most robust hyperparameter tuning. The code for this section is modified from Lecture 5.\n",
    "\n"
   ]
  },
  {
   "cell_type": "markdown",
   "metadata": {
    "id": "RSp_-2hurOG7"
   },
   "source": [
    "# 2. Data Preprocessing and Feature Engineering*(Charlie Yin)*\n",
    "\n",
    "All of our data are loaded from Yahoo Finance. Our original data are the daily stock prices and volume of Dow Jones Index and 30 stocks in the index. Our training set are from 2014-1-1 to 2020-1-1, validation set are from 2020-1-1 to 2023-1-1, our test set are from 2023-1-1 to 2024-5-9, and our prediction set are from 2024-5-9 to 2024-5-25. The prediction set are used to predict future price changes, meaning we want to predict the percentage of price change on May 24 (Friday).\n",
    "\n",
    "In our study, we only consider close price and volume, and we then calculated the percentage of price change as a measure of performance, and percentage of volume as a measure of market sentiment and potential volatility.Considering different days of a week may also influence the performance of the stocks, we add a new features of days of a week by using OneHotEncoder Function in Python (By Sayako Mitchell) .\n",
    "\n",
    "Our plan is to find out the top 3 tech stocks that outperform the Index for most times from our chosen time interval. Then train our model with the top 1 stock's data. Applying the best-performed model (in terms of RMSE) to predict the percentage change of price on May 24 (Friday) of all of the 3 top stocks and also the Index itself.\n",
    "\n",
    "On Friday, we will firstly check if our prediction on the percentage change of price (for 3 stocks and the Index) are close to the real data, and then check if our prediction on the performance comparison between the top 3 stocks and the index is correct. And the results of these 2 steps will help us choose the best-performed model.\n",
    "\n",
    "Here is the details of how did we find out the top 3 stocks: **The text and coding for this sub-part is completed by Tianrui Zhou**:\n",
    "We want to find the top 3 tech stock, which means the top 3 tech stocks that outperform the index for the most times over our interval. For each stock in the 30 stocks, I do binomial encoding (1 and 0): if the closing price percentage change of that certain stock minus the closing price percentage change of the index is positive, then encode 1. Otherwise, encode 0. For each stock, the \"outperform_score\" is calculated by adding up all the \"1\"s in the array (the sum of the array). Likewise, I can calculate the outperform score for each of the 30 stocks. Through computation, we can see that the stocks 'MSFT', 'V' and 'AAPL' has the top 3 outperform score, which means they are the top three stocks that outperform the index the most among all the 30 stocks.\n"
   ]
  },
  {
   "cell_type": "code",
   "execution_count": 1,
   "metadata": {
    "colab": {
     "base_uri": "https://localhost:8080/"
    },
    "collapsed": true,
    "id": "sqkOC_1O1RkA",
    "outputId": "f35e2619-2459-43df-b74c-073aa71ee099"
   },
   "outputs": [
    {
     "name": "stdout",
     "output_type": "stream",
     "text": [
      "\u001b[?25l     \u001b[90m━━━━━━━━━━━━━━━━━━━━━━━━━━━━━━━━━━━━━━━━\u001b[0m \u001b[32m0.0/129.1 kB\u001b[0m \u001b[31m?\u001b[0m eta \u001b[36m-:--:--\u001b[0m\r",
      "\u001b[2K     \u001b[91m━━━━━━━━━━━━━━━━━━━━━━━━━━━━━━━━━━━━━━\u001b[0m\u001b[90m╺\u001b[0m\u001b[90m━\u001b[0m \u001b[32m122.9/129.1 kB\u001b[0m \u001b[31m4.0 MB/s\u001b[0m eta \u001b[36m0:00:01\u001b[0m\r",
      "\u001b[2K     \u001b[90m━━━━━━━━━━━━━━━━━━━━━━━━━━━━━━━━━━━━━━━━\u001b[0m \u001b[32m129.1/129.1 kB\u001b[0m \u001b[31m2.7 MB/s\u001b[0m eta \u001b[36m0:00:00\u001b[0m\n",
      "\u001b[?25h"
     ]
    }
   ],
   "source": [
    "! pip install -q -U keras_tuner"
   ]
  },
  {
   "cell_type": "code",
   "execution_count": 2,
   "metadata": {
    "colab": {
     "base_uri": "https://localhost:8080/"
    },
    "collapsed": true,
    "id": "20eA5TMX0z-P",
    "outputId": "44a4c920-7fdd-4fa9-b82a-e024ceffd73c"
   },
   "outputs": [
    {
     "name": "stdout",
     "output_type": "stream",
     "text": [
      "Requirement already satisfied: yfinance in /usr/local/lib/python3.10/dist-packages (0.2.40)\n",
      "Requirement already satisfied: pandas>=1.3.0 in /usr/local/lib/python3.10/dist-packages (from yfinance) (2.0.3)\n",
      "Requirement already satisfied: numpy>=1.16.5 in /usr/local/lib/python3.10/dist-packages (from yfinance) (1.25.2)\n",
      "Requirement already satisfied: requests>=2.31 in /usr/local/lib/python3.10/dist-packages (from yfinance) (2.31.0)\n",
      "Requirement already satisfied: multitasking>=0.0.7 in /usr/local/lib/python3.10/dist-packages (from yfinance) (0.0.11)\n",
      "Requirement already satisfied: lxml>=4.9.1 in /usr/local/lib/python3.10/dist-packages (from yfinance) (4.9.4)\n",
      "Requirement already satisfied: platformdirs>=2.0.0 in /usr/local/lib/python3.10/dist-packages (from yfinance) (4.2.2)\n",
      "Requirement already satisfied: pytz>=2022.5 in /usr/local/lib/python3.10/dist-packages (from yfinance) (2023.4)\n",
      "Requirement already satisfied: frozendict>=2.3.4 in /usr/local/lib/python3.10/dist-packages (from yfinance) (2.4.4)\n",
      "Requirement already satisfied: peewee>=3.16.2 in /usr/local/lib/python3.10/dist-packages (from yfinance) (3.17.5)\n",
      "Requirement already satisfied: beautifulsoup4>=4.11.1 in /usr/local/lib/python3.10/dist-packages (from yfinance) (4.12.3)\n",
      "Requirement already satisfied: html5lib>=1.1 in /usr/local/lib/python3.10/dist-packages (from yfinance) (1.1)\n",
      "Requirement already satisfied: soupsieve>1.2 in /usr/local/lib/python3.10/dist-packages (from beautifulsoup4>=4.11.1->yfinance) (2.5)\n",
      "Requirement already satisfied: six>=1.9 in /usr/local/lib/python3.10/dist-packages (from html5lib>=1.1->yfinance) (1.16.0)\n",
      "Requirement already satisfied: webencodings in /usr/local/lib/python3.10/dist-packages (from html5lib>=1.1->yfinance) (0.5.1)\n",
      "Requirement already satisfied: python-dateutil>=2.8.2 in /usr/local/lib/python3.10/dist-packages (from pandas>=1.3.0->yfinance) (2.8.2)\n",
      "Requirement already satisfied: tzdata>=2022.1 in /usr/local/lib/python3.10/dist-packages (from pandas>=1.3.0->yfinance) (2024.1)\n",
      "Requirement already satisfied: charset-normalizer<4,>=2 in /usr/local/lib/python3.10/dist-packages (from requests>=2.31->yfinance) (3.3.2)\n",
      "Requirement already satisfied: idna<4,>=2.5 in /usr/local/lib/python3.10/dist-packages (from requests>=2.31->yfinance) (3.7)\n",
      "Requirement already satisfied: urllib3<3,>=1.21.1 in /usr/local/lib/python3.10/dist-packages (from requests>=2.31->yfinance) (2.0.7)\n",
      "Requirement already satisfied: certifi>=2017.4.17 in /usr/local/lib/python3.10/dist-packages (from requests>=2.31->yfinance) (2024.2.2)\n"
     ]
    }
   ],
   "source": [
    "! pip install yfinance"
   ]
  },
  {
   "cell_type": "code",
   "execution_count": 3,
   "metadata": {
    "id": "tYvjjWqH1iij"
   },
   "outputs": [],
   "source": [
    "import numpy as np\n",
    "import tensorflow as tf\n",
    "import matplotlib.pyplot as plt\n",
    "import keras_tuner as kt\n",
    "import pandas as pd\n",
    "import pandas_datareader as pdr\n",
    "from datetime import datetime\n",
    "import yfinance as yf\n",
    "from sklearn.preprocessing import MinMaxScaler\n",
    "from collections import defaultdict"
   ]
  },
  {
   "cell_type": "code",
   "execution_count": 4,
   "metadata": {
    "id": "UO2X8ObD-9OF"
   },
   "outputs": [],
   "source": [
    "Ticker_names = [\"UNH\",\"GS\", \"MSFT\", \"CAT\", \"HD\", \"AMGN\", \"CRM\", \"V\", \"MCD\", \"AXP\",\n",
    "                \"TRV\", \"HON\", \"JPM\", \"AAPL\", \"AMZN\", \"BA\", \"IBM\", \"PG\", \"CVX\", \"JNJ\",\n",
    "                \"MRK\", \"DIS\", \"MMM\", \"NKE\", \"WMT\", \"KO\", \"DOW\", \"CSCO\", \"VZ\", \"INTC\"]"
   ]
  },
  {
   "cell_type": "code",
   "execution_count": 5,
   "metadata": {
    "id": "OBYna7YlBnGR"
   },
   "outputs": [],
   "source": [
    "def data_generator(ticker_name):\n",
    "    #Get data\n",
    "    #newdf = df.reset_index() newdf\n",
    "    Train_set = yf.download(ticker_name, start=\"2014-01-01\", end=\"2020-01-01\", interval = '1d', auto_adjust= False, progress=False)\n",
    "    Valid_set = yf.download(ticker_name, start=\"2020-01-01\", end=\"2023-01-01\", interval = '1d', auto_adjust= False, progress=False)\n",
    "    Test_set = yf.download(ticker_name, start=\"2023-01-01\", end=\"2024-05-09\", interval = '1d', auto_adjust= False, progress=False)\n",
    "    prediction_set = yf.download(ticker_name, start=\"2024-05-09\", end=\"2024-05-25\", interval = '1d', auto_adjust= False, progress=False) # this set is used to predict future prices\n",
    "\n",
    "    # add timestamp column\n",
    "    Train_set['Timestamp'] = Train_set.index\n",
    "    Valid_set['Timestamp'] = Valid_set.index\n",
    "    Test_set['Timestamp'] = Test_set.index\n",
    "    prediction_set['Timestamp'] = prediction_set.index\n",
    "\n",
    "    #calculate percentages:\n",
    "    train = Train_set[['Close', 'Volume']].pct_change() * 100\n",
    "    valid = Valid_set[['Close', 'Volume']].pct_change() * 100\n",
    "    test = Test_set[['Close', 'Volume']].pct_change() * 100\n",
    "    predict = prediction_set[['Close', 'Volume']].pct_change() * 100\n",
    "\n",
    "    # convert timestamp to day of the week\n",
    "    Train_set['Timestamp'] = pd.to_datetime(Train_set['Timestamp'])\n",
    "    Train_set['day_of_week'] = Train_set['Timestamp'].dt.dayofweek\n",
    "    Valid_set['Timestamp'] = pd.to_datetime(Valid_set['Timestamp'])\n",
    "    Valid_set['day_of_week'] = Valid_set['Timestamp'].dt.dayofweek\n",
    "    Test_set['Timestamp'] = pd.to_datetime(Test_set['Timestamp'])\n",
    "    Test_set['day_of_week'] = Test_set['Timestamp'].dt.dayofweek\n",
    "    prediction_set['Timestamp'] = pd.to_datetime(prediction_set['Timestamp'])\n",
    "    prediction_set['day_of_week'] = prediction_set['Timestamp'].dt.dayofweek\n",
    "\n",
    "    # add day of week\n",
    "    train['Day_of_Week']= Train_set['day_of_week']\n",
    "    valid['Day_of_Week'] = Valid_set['day_of_week']\n",
    "    test['Day_of_Week'] = Test_set['day_of_week']\n",
    "    predict['Day_of_Week'] = prediction_set['day_of_week']\n",
    "\n",
    "    # apply one-hot encoding for days of the week\n",
    "    train_encoded = pd.get_dummies(train, columns=['Day_of_Week'])\n",
    "    valid_encoded = pd.get_dummies(valid, columns=['Day_of_Week'])\n",
    "    test_encoded = pd.get_dummies(test, columns=['Day_of_Week'])\n",
    "    predict_encoded = pd.get_dummies(predict, columns=['Day_of_Week'])\n",
    "\n",
    "    #rename the columns\n",
    "    train_encoded.columns = ['Pct_Change_Price', 'Pct_Change_Volume', 'M','T','W','Th','F']\n",
    "    valid_encoded.columns = ['Pct_Change_Price', 'Pct_Change_Volume','M','T','W','Th','F']\n",
    "    test_encoded.columns = ['Pct_Change_Price', 'Pct_Change_Volume','M','T','W','Th','F']\n",
    "    predict_encoded.columns = ['Pct_Change_Price', 'Pct_Change_Volume','M','T','W','Th','F']\n",
    "\n",
    "    #drop NA\n",
    "    train_data = train_encoded.dropna()\n",
    "    valid_data = valid_encoded.dropna()\n",
    "    test_data = test_encoded.dropna()\n",
    "    predict_data = predict_encoded.dropna()\n",
    "\n",
    "    #return the data frame\n",
    "    return train_data, valid_data, test_data, predict_data"
   ]
  },
  {
   "cell_type": "code",
   "execution_count": 6,
   "metadata": {
    "id": "zLqqYmg_HiFr"
   },
   "outputs": [],
   "source": [
    "#Prepare Index data\n",
    "data = yf.download(\"^DJI\", start=\"2014-01-01\", end=\"2024-05-25\", interval = '1d', auto_adjust= False, progress=False)\n",
    "df_pct_change = data[['Close', 'Volume']].pct_change() * 100\n",
    "# Rename the columns appropriately\n",
    "df_pct_change.columns = ['Pct_Change_Price', 'Pct_Change_Volume']\n",
    "Index = df_pct_change.dropna()\n"
   ]
  },
  {
   "cell_type": "code",
   "execution_count": 7,
   "metadata": {
    "id": "kg63M4d6unJS"
   },
   "outputs": [],
   "source": [
    "def calculate_outperform_score(stock_data, index_data):\n",
    "    '''\n",
    "    Goal: Calculates the outperform score for a given stock data against the index data.\n",
    "\n",
    "    Returns:\n",
    "        The outperform score, which is the number of days the stock outperformed the index.\n",
    "    '''\n",
    "    outperform_array = (stock_data['Pct_Change_Price'] - index_data['Pct_Change_Price']) > 0\n",
    "    outperform_score = outperform_array.sum()\n",
    "    return outperform_score\n",
    "\n",
    "outperform_scores = defaultdict(int)"
   ]
  },
  {
   "cell_type": "code",
   "execution_count": 8,
   "metadata": {
    "colab": {
     "base_uri": "https://localhost:8080/"
    },
    "id": "Nz44iQnhurDB",
    "outputId": "c74765b7-aecd-4a5a-fe3c-03fcf0834f53"
   },
   "outputs": [
    {
     "name": "stdout",
     "output_type": "stream",
     "text": [
      "The top 3 stocks are: [('MSFT', 1379), ('UNH', 1362), ('HD', 1357), ('V', 1355), ('TRV', 1351), ('AAPL', 1339), ('CSCO', 1332), ('CRM', 1329), ('AMZN', 1329), ('MCD', 1327)]\n"
     ]
    }
   ],
   "source": [
    "for ticker in Ticker_names:\n",
    "    train_data, valid_data, test_data, pred_data = data_generator(ticker)\n",
    "    stock_data = pd.concat([train_data, valid_data, test_data, pred_data])\n",
    "\n",
    "    # Calculate outperform score\n",
    "    outperform_score = calculate_outperform_score(stock_data, Index)\n",
    "    outperform_scores[ticker] = outperform_score\n",
    "\n",
    "# Sort outperform scores and get top 3\n",
    "sorted_scores = sorted(outperform_scores.items(), key=lambda x: x[1], reverse=True)\n",
    "\n",
    "print(\"The top 3 stocks are:\", sorted_scores[0:10])"
   ]
  },
  {
   "cell_type": "code",
   "execution_count": 9,
   "metadata": {
    "id": "Br5t3-_qPXcD"
   },
   "outputs": [],
   "source": [
    "#Here is for data preprocessing\n",
    "#X_train, y_train, X_valid, y_valid, X_test, y_test\n",
    "def ts_split(ts, feature_steps=10, target_steps=1):\n",
    "    n_obs = len(ts) - feature_steps - target_steps + 1\n",
    "    X = np.array([ts[idx:idx + feature_steps] for idx in range(n_obs)])\n",
    "    y = np.array([ts[idx + feature_steps:idx + feature_steps + target_steps] for idx in range(n_obs)])\n",
    "    return X, y\n",
    "def tsv_generator (data):\n",
    "    pct_price = data[\"Pct_Change_Price\"]\n",
    "    pct_vol = data[\"Pct_Change_Volume\"]\n",
    "    M = data[\"M\"]\n",
    "    T = data['T']\n",
    "    W = data[\"W\"]\n",
    "    Th = data['Th']\n",
    "    F = data[\"F\"]\n",
    "    pct_price_X, pct_price_y = ts_split(pct_price, feature_steps=10, target_steps=1)\n",
    "    pct_vol_X, pct_vol_y = ts_split(pct_vol, feature_steps=10, target_steps=1)\n",
    "    M_X, M_y = ts_split(M, feature_steps=10, target_steps=1)\n",
    "    T_X, T_y = ts_split(T, feature_steps=10, target_steps=1)\n",
    "    W_X, W_y = ts_split(W, feature_steps=10, target_steps=1)\n",
    "    Th_X, Th_y = ts_split(Th, feature_steps=10, target_steps=1)\n",
    "    F_X, F_y = ts_split(F, feature_steps=10, target_steps=1)\n",
    "    X = np.c_[pct_price_X,pct_vol_X, M_X, T_X, W_X, Th_X, F_X]\n",
    "    y = pct_price_y\n",
    "    return X, y"
   ]
  },
  {
   "cell_type": "code",
   "execution_count": 102,
   "metadata": {
    "id": "M3srZFpzp4_9"
   },
   "outputs": [],
   "source": [
    "training_stock = \"MSFT\"\n",
    "train, valid, test,predict  = data_generator(training_stock)\n",
    "X_train, y_train = tsv_generator(train)\n",
    "X_valid, y_valid = tsv_generator(valid)\n",
    "X_test, y_test = tsv_generator(test)\n",
    "X_predict, y_predict = tsv_generator(predict)"
   ]
  },
  {
   "cell_type": "markdown",
   "metadata": {
    "id": "Y2hC9vzK7VIG"
   },
   "source": [
    "This is a sample of what our data looks like:"
   ]
  },
  {
   "cell_type": "code",
   "execution_count": 103,
   "metadata": {
    "colab": {
     "base_uri": "https://localhost:8080/",
     "height": 475
    },
    "id": "V08VLvbdMxOH",
    "outputId": "ffbde9c5-f09a-42e1-ddbf-0ba3176a9c72"
   },
   "outputs": [
    {
     "data": {
      "application/vnd.google.colaboratory.intrinsic+json": {
       "summary": "{\n  \"name\": \"train\",\n  \"rows\": 1509,\n  \"fields\": [\n    {\n      \"column\": \"Date\",\n      \"properties\": {\n        \"dtype\": \"date\",\n        \"min\": \"2014-01-03 00:00:00\",\n        \"max\": \"2019-12-31 00:00:00\",\n        \"num_unique_values\": 1509,\n        \"samples\": [\n          \"2016-04-21 00:00:00\",\n          \"2018-07-24 00:00:00\",\n          \"2015-07-13 00:00:00\"\n        ],\n        \"semantic_type\": \"\",\n        \"description\": \"\"\n      }\n    },\n    {\n      \"column\": \"Pct_Change_Price\",\n      \"properties\": {\n        \"dtype\": \"number\",\n        \"std\": 1.4279205181019492,\n        \"min\": -9.25334743551469,\n        \"max\": 10.452235263839471,\n        \"num_unique_values\": 1493,\n        \"samples\": [\n          0.16533751412137754,\n          -0.5027790944419408,\n          0.5387421158289829\n        ],\n        \"semantic_type\": \"\",\n        \"description\": \"\"\n      }\n    },\n    {\n      \"column\": \"Pct_Change_Volume\",\n      \"properties\": {\n        \"dtype\": \"number\",\n        \"std\": 42.089016138473454,\n        \"min\": -80.89786611258805,\n        \"max\": 524.2732348403282,\n        \"num_unique_values\": 1509,\n        \"samples\": [\n          7.496470575234082,\n          -11.412798330359852,\n          10.651540497451496\n        ],\n        \"semantic_type\": \"\",\n        \"description\": \"\"\n      }\n    },\n    {\n      \"column\": \"M\",\n      \"properties\": {\n        \"dtype\": \"boolean\",\n        \"num_unique_values\": 2,\n        \"samples\": [\n          true,\n          false\n        ],\n        \"semantic_type\": \"\",\n        \"description\": \"\"\n      }\n    },\n    {\n      \"column\": \"T\",\n      \"properties\": {\n        \"dtype\": \"boolean\",\n        \"num_unique_values\": 2,\n        \"samples\": [\n          true,\n          false\n        ],\n        \"semantic_type\": \"\",\n        \"description\": \"\"\n      }\n    },\n    {\n      \"column\": \"W\",\n      \"properties\": {\n        \"dtype\": \"boolean\",\n        \"num_unique_values\": 2,\n        \"samples\": [\n          true,\n          false\n        ],\n        \"semantic_type\": \"\",\n        \"description\": \"\"\n      }\n    },\n    {\n      \"column\": \"Th\",\n      \"properties\": {\n        \"dtype\": \"boolean\",\n        \"num_unique_values\": 2,\n        \"samples\": [\n          true,\n          false\n        ],\n        \"semantic_type\": \"\",\n        \"description\": \"\"\n      }\n    },\n    {\n      \"column\": \"F\",\n      \"properties\": {\n        \"dtype\": \"boolean\",\n        \"num_unique_values\": 2,\n        \"samples\": [\n          false,\n          true\n        ],\n        \"semantic_type\": \"\",\n        \"description\": \"\"\n      }\n    }\n  ]\n}",
       "type": "dataframe",
       "variable_name": "train"
      },
      "text/html": [
       "\n",
       "  <div id=\"df-13ecaa94-f4b9-4050-a8a0-f7f9273e62d6\" class=\"colab-df-container\">\n",
       "    <div>\n",
       "<style scoped>\n",
       "    .dataframe tbody tr th:only-of-type {\n",
       "        vertical-align: middle;\n",
       "    }\n",
       "\n",
       "    .dataframe tbody tr th {\n",
       "        vertical-align: top;\n",
       "    }\n",
       "\n",
       "    .dataframe thead th {\n",
       "        text-align: right;\n",
       "    }\n",
       "</style>\n",
       "<table border=\"1\" class=\"dataframe\">\n",
       "  <thead>\n",
       "    <tr style=\"text-align: right;\">\n",
       "      <th></th>\n",
       "      <th>Pct_Change_Price</th>\n",
       "      <th>Pct_Change_Volume</th>\n",
       "      <th>M</th>\n",
       "      <th>T</th>\n",
       "      <th>W</th>\n",
       "      <th>Th</th>\n",
       "      <th>F</th>\n",
       "    </tr>\n",
       "    <tr>\n",
       "      <th>Date</th>\n",
       "      <th></th>\n",
       "      <th></th>\n",
       "      <th></th>\n",
       "      <th></th>\n",
       "      <th></th>\n",
       "      <th></th>\n",
       "      <th></th>\n",
       "    </tr>\n",
       "  </thead>\n",
       "  <tbody>\n",
       "    <tr>\n",
       "      <th>2014-01-03</th>\n",
       "      <td>-0.672766</td>\n",
       "      <td>1.640757</td>\n",
       "      <td>False</td>\n",
       "      <td>False</td>\n",
       "      <td>False</td>\n",
       "      <td>False</td>\n",
       "      <td>True</td>\n",
       "    </tr>\n",
       "    <tr>\n",
       "      <th>2014-01-06</th>\n",
       "      <td>-2.113245</td>\n",
       "      <td>40.048113</td>\n",
       "      <td>True</td>\n",
       "      <td>False</td>\n",
       "      <td>False</td>\n",
       "      <td>False</td>\n",
       "      <td>False</td>\n",
       "    </tr>\n",
       "    <tr>\n",
       "      <th>2014-01-07</th>\n",
       "      <td>0.774976</td>\n",
       "      <td>-17.890454</td>\n",
       "      <td>False</td>\n",
       "      <td>True</td>\n",
       "      <td>False</td>\n",
       "      <td>False</td>\n",
       "      <td>False</td>\n",
       "    </tr>\n",
       "    <tr>\n",
       "      <th>2014-01-08</th>\n",
       "      <td>-1.785228</td>\n",
       "      <td>67.505614</td>\n",
       "      <td>False</td>\n",
       "      <td>False</td>\n",
       "      <td>True</td>\n",
       "      <td>False</td>\n",
       "      <td>False</td>\n",
       "    </tr>\n",
       "    <tr>\n",
       "      <th>2014-01-09</th>\n",
       "      <td>-0.643175</td>\n",
       "      <td>-39.110781</td>\n",
       "      <td>False</td>\n",
       "      <td>False</td>\n",
       "      <td>False</td>\n",
       "      <td>True</td>\n",
       "      <td>False</td>\n",
       "    </tr>\n",
       "    <tr>\n",
       "      <th>...</th>\n",
       "      <td>...</td>\n",
       "      <td>...</td>\n",
       "      <td>...</td>\n",
       "      <td>...</td>\n",
       "      <td>...</td>\n",
       "      <td>...</td>\n",
       "      <td>...</td>\n",
       "    </tr>\n",
       "    <tr>\n",
       "      <th>2019-12-24</th>\n",
       "      <td>-0.019058</td>\n",
       "      <td>-49.265727</td>\n",
       "      <td>False</td>\n",
       "      <td>True</td>\n",
       "      <td>False</td>\n",
       "      <td>False</td>\n",
       "      <td>False</td>\n",
       "    </tr>\n",
       "    <tr>\n",
       "      <th>2019-12-26</th>\n",
       "      <td>0.819668</td>\n",
       "      <td>61.533841</td>\n",
       "      <td>False</td>\n",
       "      <td>False</td>\n",
       "      <td>False</td>\n",
       "      <td>True</td>\n",
       "      <td>False</td>\n",
       "    </tr>\n",
       "    <tr>\n",
       "      <th>2019-12-27</th>\n",
       "      <td>0.182775</td>\n",
       "      <td>26.804677</td>\n",
       "      <td>False</td>\n",
       "      <td>False</td>\n",
       "      <td>False</td>\n",
       "      <td>False</td>\n",
       "      <td>True</td>\n",
       "    </tr>\n",
       "    <tr>\n",
       "      <th>2019-12-30</th>\n",
       "      <td>-0.861859</td>\n",
       "      <td>-11.211766</td>\n",
       "      <td>True</td>\n",
       "      <td>False</td>\n",
       "      <td>False</td>\n",
       "      <td>False</td>\n",
       "      <td>False</td>\n",
       "    </tr>\n",
       "    <tr>\n",
       "      <th>2019-12-31</th>\n",
       "      <td>0.069802</td>\n",
       "      <td>12.362066</td>\n",
       "      <td>False</td>\n",
       "      <td>True</td>\n",
       "      <td>False</td>\n",
       "      <td>False</td>\n",
       "      <td>False</td>\n",
       "    </tr>\n",
       "  </tbody>\n",
       "</table>\n",
       "<p>1509 rows × 7 columns</p>\n",
       "</div>\n",
       "    <div class=\"colab-df-buttons\">\n",
       "\n",
       "  <div class=\"colab-df-container\">\n",
       "    <button class=\"colab-df-convert\" onclick=\"convertToInteractive('df-13ecaa94-f4b9-4050-a8a0-f7f9273e62d6')\"\n",
       "            title=\"Convert this dataframe to an interactive table.\"\n",
       "            style=\"display:none;\">\n",
       "\n",
       "  <svg xmlns=\"http://www.w3.org/2000/svg\" height=\"24px\" viewBox=\"0 -960 960 960\">\n",
       "    <path d=\"M120-120v-720h720v720H120Zm60-500h600v-160H180v160Zm220 220h160v-160H400v160Zm0 220h160v-160H400v160ZM180-400h160v-160H180v160Zm440 0h160v-160H620v160ZM180-180h160v-160H180v160Zm440 0h160v-160H620v160Z\"/>\n",
       "  </svg>\n",
       "    </button>\n",
       "\n",
       "  <style>\n",
       "    .colab-df-container {\n",
       "      display:flex;\n",
       "      gap: 12px;\n",
       "    }\n",
       "\n",
       "    .colab-df-convert {\n",
       "      background-color: #E8F0FE;\n",
       "      border: none;\n",
       "      border-radius: 50%;\n",
       "      cursor: pointer;\n",
       "      display: none;\n",
       "      fill: #1967D2;\n",
       "      height: 32px;\n",
       "      padding: 0 0 0 0;\n",
       "      width: 32px;\n",
       "    }\n",
       "\n",
       "    .colab-df-convert:hover {\n",
       "      background-color: #E2EBFA;\n",
       "      box-shadow: 0px 1px 2px rgba(60, 64, 67, 0.3), 0px 1px 3px 1px rgba(60, 64, 67, 0.15);\n",
       "      fill: #174EA6;\n",
       "    }\n",
       "\n",
       "    .colab-df-buttons div {\n",
       "      margin-bottom: 4px;\n",
       "    }\n",
       "\n",
       "    [theme=dark] .colab-df-convert {\n",
       "      background-color: #3B4455;\n",
       "      fill: #D2E3FC;\n",
       "    }\n",
       "\n",
       "    [theme=dark] .colab-df-convert:hover {\n",
       "      background-color: #434B5C;\n",
       "      box-shadow: 0px 1px 3px 1px rgba(0, 0, 0, 0.15);\n",
       "      filter: drop-shadow(0px 1px 2px rgba(0, 0, 0, 0.3));\n",
       "      fill: #FFFFFF;\n",
       "    }\n",
       "  </style>\n",
       "\n",
       "    <script>\n",
       "      const buttonEl =\n",
       "        document.querySelector('#df-13ecaa94-f4b9-4050-a8a0-f7f9273e62d6 button.colab-df-convert');\n",
       "      buttonEl.style.display =\n",
       "        google.colab.kernel.accessAllowed ? 'block' : 'none';\n",
       "\n",
       "      async function convertToInteractive(key) {\n",
       "        const element = document.querySelector('#df-13ecaa94-f4b9-4050-a8a0-f7f9273e62d6');\n",
       "        const dataTable =\n",
       "          await google.colab.kernel.invokeFunction('convertToInteractive',\n",
       "                                                    [key], {});\n",
       "        if (!dataTable) return;\n",
       "\n",
       "        const docLinkHtml = 'Like what you see? Visit the ' +\n",
       "          '<a target=\"_blank\" href=https://colab.research.google.com/notebooks/data_table.ipynb>data table notebook</a>'\n",
       "          + ' to learn more about interactive tables.';\n",
       "        element.innerHTML = '';\n",
       "        dataTable['output_type'] = 'display_data';\n",
       "        await google.colab.output.renderOutput(dataTable, element);\n",
       "        const docLink = document.createElement('div');\n",
       "        docLink.innerHTML = docLinkHtml;\n",
       "        element.appendChild(docLink);\n",
       "      }\n",
       "    </script>\n",
       "  </div>\n",
       "\n",
       "\n",
       "<div id=\"df-dc4384d7-f3b6-4012-b778-f8f4cbbed89a\">\n",
       "  <button class=\"colab-df-quickchart\" onclick=\"quickchart('df-dc4384d7-f3b6-4012-b778-f8f4cbbed89a')\"\n",
       "            title=\"Suggest charts\"\n",
       "            style=\"display:none;\">\n",
       "\n",
       "<svg xmlns=\"http://www.w3.org/2000/svg\" height=\"24px\"viewBox=\"0 0 24 24\"\n",
       "     width=\"24px\">\n",
       "    <g>\n",
       "        <path d=\"M19 3H5c-1.1 0-2 .9-2 2v14c0 1.1.9 2 2 2h14c1.1 0 2-.9 2-2V5c0-1.1-.9-2-2-2zM9 17H7v-7h2v7zm4 0h-2V7h2v10zm4 0h-2v-4h2v4z\"/>\n",
       "    </g>\n",
       "</svg>\n",
       "  </button>\n",
       "\n",
       "<style>\n",
       "  .colab-df-quickchart {\n",
       "      --bg-color: #E8F0FE;\n",
       "      --fill-color: #1967D2;\n",
       "      --hover-bg-color: #E2EBFA;\n",
       "      --hover-fill-color: #174EA6;\n",
       "      --disabled-fill-color: #AAA;\n",
       "      --disabled-bg-color: #DDD;\n",
       "  }\n",
       "\n",
       "  [theme=dark] .colab-df-quickchart {\n",
       "      --bg-color: #3B4455;\n",
       "      --fill-color: #D2E3FC;\n",
       "      --hover-bg-color: #434B5C;\n",
       "      --hover-fill-color: #FFFFFF;\n",
       "      --disabled-bg-color: #3B4455;\n",
       "      --disabled-fill-color: #666;\n",
       "  }\n",
       "\n",
       "  .colab-df-quickchart {\n",
       "    background-color: var(--bg-color);\n",
       "    border: none;\n",
       "    border-radius: 50%;\n",
       "    cursor: pointer;\n",
       "    display: none;\n",
       "    fill: var(--fill-color);\n",
       "    height: 32px;\n",
       "    padding: 0;\n",
       "    width: 32px;\n",
       "  }\n",
       "\n",
       "  .colab-df-quickchart:hover {\n",
       "    background-color: var(--hover-bg-color);\n",
       "    box-shadow: 0 1px 2px rgba(60, 64, 67, 0.3), 0 1px 3px 1px rgba(60, 64, 67, 0.15);\n",
       "    fill: var(--button-hover-fill-color);\n",
       "  }\n",
       "\n",
       "  .colab-df-quickchart-complete:disabled,\n",
       "  .colab-df-quickchart-complete:disabled:hover {\n",
       "    background-color: var(--disabled-bg-color);\n",
       "    fill: var(--disabled-fill-color);\n",
       "    box-shadow: none;\n",
       "  }\n",
       "\n",
       "  .colab-df-spinner {\n",
       "    border: 2px solid var(--fill-color);\n",
       "    border-color: transparent;\n",
       "    border-bottom-color: var(--fill-color);\n",
       "    animation:\n",
       "      spin 1s steps(1) infinite;\n",
       "  }\n",
       "\n",
       "  @keyframes spin {\n",
       "    0% {\n",
       "      border-color: transparent;\n",
       "      border-bottom-color: var(--fill-color);\n",
       "      border-left-color: var(--fill-color);\n",
       "    }\n",
       "    20% {\n",
       "      border-color: transparent;\n",
       "      border-left-color: var(--fill-color);\n",
       "      border-top-color: var(--fill-color);\n",
       "    }\n",
       "    30% {\n",
       "      border-color: transparent;\n",
       "      border-left-color: var(--fill-color);\n",
       "      border-top-color: var(--fill-color);\n",
       "      border-right-color: var(--fill-color);\n",
       "    }\n",
       "    40% {\n",
       "      border-color: transparent;\n",
       "      border-right-color: var(--fill-color);\n",
       "      border-top-color: var(--fill-color);\n",
       "    }\n",
       "    60% {\n",
       "      border-color: transparent;\n",
       "      border-right-color: var(--fill-color);\n",
       "    }\n",
       "    80% {\n",
       "      border-color: transparent;\n",
       "      border-right-color: var(--fill-color);\n",
       "      border-bottom-color: var(--fill-color);\n",
       "    }\n",
       "    90% {\n",
       "      border-color: transparent;\n",
       "      border-bottom-color: var(--fill-color);\n",
       "    }\n",
       "  }\n",
       "</style>\n",
       "\n",
       "  <script>\n",
       "    async function quickchart(key) {\n",
       "      const quickchartButtonEl =\n",
       "        document.querySelector('#' + key + ' button');\n",
       "      quickchartButtonEl.disabled = true;  // To prevent multiple clicks.\n",
       "      quickchartButtonEl.classList.add('colab-df-spinner');\n",
       "      try {\n",
       "        const charts = await google.colab.kernel.invokeFunction(\n",
       "            'suggestCharts', [key], {});\n",
       "      } catch (error) {\n",
       "        console.error('Error during call to suggestCharts:', error);\n",
       "      }\n",
       "      quickchartButtonEl.classList.remove('colab-df-spinner');\n",
       "      quickchartButtonEl.classList.add('colab-df-quickchart-complete');\n",
       "    }\n",
       "    (() => {\n",
       "      let quickchartButtonEl =\n",
       "        document.querySelector('#df-dc4384d7-f3b6-4012-b778-f8f4cbbed89a button');\n",
       "      quickchartButtonEl.style.display =\n",
       "        google.colab.kernel.accessAllowed ? 'block' : 'none';\n",
       "    })();\n",
       "  </script>\n",
       "</div>\n",
       "    </div>\n",
       "  </div>\n"
      ],
      "text/plain": [
       "            Pct_Change_Price  Pct_Change_Volume      M      T      W     Th  \\\n",
       "Date                                                                          \n",
       "2014-01-03         -0.672766           1.640757  False  False  False  False   \n",
       "2014-01-06         -2.113245          40.048113   True  False  False  False   \n",
       "2014-01-07          0.774976         -17.890454  False   True  False  False   \n",
       "2014-01-08         -1.785228          67.505614  False  False   True  False   \n",
       "2014-01-09         -0.643175         -39.110781  False  False  False   True   \n",
       "...                      ...                ...    ...    ...    ...    ...   \n",
       "2019-12-24         -0.019058         -49.265727  False   True  False  False   \n",
       "2019-12-26          0.819668          61.533841  False  False  False   True   \n",
       "2019-12-27          0.182775          26.804677  False  False  False  False   \n",
       "2019-12-30         -0.861859         -11.211766   True  False  False  False   \n",
       "2019-12-31          0.069802          12.362066  False   True  False  False   \n",
       "\n",
       "                F  \n",
       "Date               \n",
       "2014-01-03   True  \n",
       "2014-01-06  False  \n",
       "2014-01-07  False  \n",
       "2014-01-08  False  \n",
       "2014-01-09  False  \n",
       "...           ...  \n",
       "2019-12-24  False  \n",
       "2019-12-26  False  \n",
       "2019-12-27   True  \n",
       "2019-12-30  False  \n",
       "2019-12-31  False  \n",
       "\n",
       "[1509 rows x 7 columns]"
      ]
     },
     "execution_count": 103,
     "metadata": {},
     "output_type": "execute_result"
    }
   ],
   "source": [
    "train"
   ]
  },
  {
   "cell_type": "markdown",
   "metadata": {
    "id": "Gx2dkt0JxZgH"
   },
   "source": [
    "# 3. Recurrent Neural Network Model *Charlie Yin*"
   ]
  },
  {
   "cell_type": "code",
   "execution_count": 101,
   "metadata": {
    "id": "yxDXgXBFQjfR"
   },
   "outputs": [],
   "source": [
    "from sklearn.preprocessing import StandardScaler\n",
    "\n",
    "scaler = StandardScaler()\n",
    "\n",
    "X_train = scaler.fit_transform(X_train)\n",
    "X_valid = scaler.transform(X_valid)\n",
    "X_test = scaler.transform(X_test)\n",
    "X_predict = scaler.transform(X_predict)"
   ]
  },
  {
   "cell_type": "code",
   "execution_count": 13,
   "metadata": {
    "id": "9Xufq7UUMshq"
   },
   "outputs": [],
   "source": [
    "X_train = np.reshape(X_train, (X_train.shape[0], X_train.shape[1],1))\n",
    "y_train = np.reshape(y_train, (y_train.shape[0],1))\n",
    "\n",
    "X_valid = np.reshape(X_valid, (X_valid.shape[0], X_valid.shape[1],1))\n",
    "y_valid = np.reshape(y_valid, (y_valid.shape[0],1))\n",
    "\n",
    "X_test = np.reshape(X_test, (X_test.shape[0], X_test.shape[1],1))\n",
    "y_test = np.reshape(y_test, (y_test.shape[0],1))\n",
    "\n",
    "X_predict = np.reshape(X_predict, (X_predict.shape[0], X_predict.shape[1],1))\n",
    "y_predict = np.reshape(y_predict, (y_predict.shape[0],1))"
   ]
  },
  {
   "cell_type": "code",
   "execution_count": 14,
   "metadata": {
    "id": "rsoJo6VMayJY"
   },
   "outputs": [],
   "source": [
    "def reset_session(seed=42):\n",
    "    tf.random.set_seed(seed)\n",
    "    np.random.seed(seed)\n",
    "    tf.keras.backend.clear_session()"
   ]
  },
  {
   "cell_type": "markdown",
   "metadata": {
    "id": "3z-zsgx8bDfg"
   },
   "source": [
    "Hyperparameter tuning for RNN model"
   ]
  },
  {
   "cell_type": "code",
   "execution_count": 36,
   "metadata": {
    "id": "7PhgnObUyY3b"
   },
   "outputs": [],
   "source": [
    "def build_RNN_model(hp):\n",
    "    #layers\n",
    "    n_hidden = hp.Int(\"n_hidden\", min_value=1, max_value=10)\n",
    "    #neurons\n",
    "    n_neurons = hp.Int(\"n_neurons\", min_value=1, max_value=150)\n",
    "    #learning_rate\n",
    "    learning_rate = hp.Float(\"learning_rate\", min_value=1e-4, max_value=1,\n",
    "                             sampling=\"log\")\n",
    "    #optimizer\n",
    "    optimizer = hp.Choice(\"optimizer\", values=[\"momentum optimization\",\"NAG\", \"adam\", \"nadam\", \"AdamW\"])\n",
    "    momentum = hp.Float(\"momentum\", min_value=0.0, max_value = 1.0)\n",
    "    weight_decay = hp.Float(\"weight_decay\", min_value = 1e-6, max_value = 1)\n",
    "\n",
    "    dropout = hp.Float(\"dropout\", min_value = 0, max_value = 0.9)\n",
    "    recurrent_dropout = hp.Float(\"recurrent_dropout\", min_value = 0, max_value = 0.9)\n",
    "\n",
    "    if optimizer == \"momentum optimization\":\n",
    "        optimizer = tf.keras.optimizers.SGD(learning_rate=learning_rate, momentum=momentum)\n",
    "    elif optimizer == \"NAG\":\n",
    "        optimizer = tf.keras.optimizers.SGD(learning_rate=learning_rate, momentum=momentum,\n",
    "                                    nesterov=True)\n",
    "    elif optimizer == \"adam\":\n",
    "        optimizer = tf.keras.optimizers.Adam(learning_rate=learning_rate)\n",
    "    elif optimizer == \"nadam\":\n",
    "        optimizer = tf.keras.optimizers.Nadam(learning_rate=learning_rate)\n",
    "\n",
    "    else: #adamw\n",
    "        optimizer = tf.keras.optimizers.AdamW(weight_decay = weight_decay, learning_rate=learning_rate)\n",
    "\n",
    "    model = tf.keras.Sequential()\n",
    "\n",
    "    lstm_units = hp.Int(\"lstm_units\", min_value=1, max_value=150)\n",
    "    model.add(tf.keras.layers.LSTM(lstm_units, return_sequences=True, activation=\"relu\", input_shape=(70, 1)))\n",
    "\n",
    "    # Add RNN layers based on n_hidden\n",
    "    for i in range(n_hidden):\n",
    "        model.add(tf.keras.layers.SimpleRNN(n_neurons, return_sequences=True, dropout=dropout,\n",
    "                                             recurrent_dropout=recurrent_dropout, activation=\"leaky_relu\"))\n",
    "\n",
    "    # Final RNN layer\n",
    "    model.add(tf.keras.layers.SimpleRNN(n_neurons, dropout=dropout, recurrent_dropout=recurrent_dropout))\n",
    "\n",
    "    model.add(tf.keras.layers.Dense(1))  # Predicting the next step's price\n",
    "\n",
    "    model.compile(loss=\"mse\", optimizer=optimizer)\n",
    "\n",
    "    return model\n"
   ]
  },
  {
   "cell_type": "code",
   "execution_count": 16,
   "metadata": {
    "colab": {
     "base_uri": "https://localhost:8080/"
    },
    "id": "I3PilBOLyfN5",
    "outputId": "78c0955d-6e5b-48cd-bbaa-352643bddda4"
   },
   "outputs": [
    {
     "name": "stdout",
     "output_type": "stream",
     "text": [
      "Trial 10 Complete [00h 01m 27s]\n",
      "val_loss: 4.848118782043457\n",
      "\n",
      "Best val_loss So Far: 4.837200164794922\n",
      "Total elapsed time: 00h 29m 15s\n",
      "Trial 01 summary\n",
      "Hyperparameters:\n",
      "n_hidden: 6\n",
      "n_neurons: 42\n",
      "learning_rate: 0.002264838487129011\n",
      "optimizer: nadam\n",
      "momentum: 0.11620353199188593\n",
      "weight_decay: 0.33468706641372403\n",
      "dropout: 0.7609906851645137\n",
      "recurrent_dropout: 0.6193845052764336\n",
      "lstm_units: 57\n",
      "Score: 4.837200164794922\n"
     ]
    }
   ],
   "source": [
    "random_search_tuner = kt.RandomSearch(\n",
    "    build_RNN_model, objective=\"val_loss\", max_trials=10,  overwrite=True)\n",
    "\n",
    "random_search_tuner.search(X_train[:1000], y_train[:1000], epochs=20,\n",
    "                           validation_data=(X_valid, y_valid)\n",
    "                          )\n",
    "\n",
    "best_trial = random_search_tuner.oracle.get_best_trials(num_trials=1)[0]\n",
    "best_trial.summary()"
   ]
  },
  {
   "cell_type": "markdown",
   "metadata": {
    "id": "WNGDQLiKbIFE"
   },
   "source": [
    "Train and test the RNN model"
   ]
  },
  {
   "cell_type": "code",
   "execution_count": 17,
   "metadata": {
    "colab": {
     "base_uri": "https://localhost:8080/"
    },
    "collapsed": true,
    "id": "cPurhEJlyga6",
    "outputId": "805c39d0-11c3-4a92-b27d-ffa14579cdb5"
   },
   "outputs": [
    {
     "name": "stdout",
     "output_type": "stream",
     "text": [
      "Epoch 1/100\n",
      "47/47 [==============================] - 24s 239ms/step - loss: 2.0617 - val_loss: 4.8374\n",
      "Epoch 2/100\n",
      "47/47 [==============================] - 10s 218ms/step - loss: 2.0327 - val_loss: 4.8377\n",
      "Epoch 3/100\n",
      "47/47 [==============================] - 10s 223ms/step - loss: 2.0481 - val_loss: 4.8385\n",
      "Epoch 4/100\n",
      "47/47 [==============================] - 8s 181ms/step - loss: 2.0387 - val_loss: 4.8384\n",
      "Epoch 5/100\n",
      "47/47 [==============================] - 10s 217ms/step - loss: 2.0367 - val_loss: 4.8384\n",
      "Epoch 6/100\n",
      "47/47 [==============================] - 10s 211ms/step - loss: 2.0458 - val_loss: 4.8408\n",
      "Epoch 7/100\n",
      "47/47 [==============================] - 9s 194ms/step - loss: 2.0438 - val_loss: 4.8399\n",
      "Epoch 8/100\n",
      "47/47 [==============================] - 10s 205ms/step - loss: 2.0454 - val_loss: 4.8519\n",
      "Epoch 9/100\n",
      "47/47 [==============================] - 10s 212ms/step - loss: 2.0368 - val_loss: 4.8706\n",
      "Epoch 10/100\n",
      "47/47 [==============================] - 10s 213ms/step - loss: 2.0388 - val_loss: 4.8634\n",
      "Epoch 11/100\n",
      "47/47 [==============================] - 9s 180ms/step - loss: 2.0353 - val_loss: 4.8446\n",
      "Epoch 12/100\n",
      "47/47 [==============================] - 10s 215ms/step - loss: 2.0531 - val_loss: 4.8436\n",
      "Epoch 13/100\n",
      "47/47 [==============================] - 10s 217ms/step - loss: 2.0396 - val_loss: 4.8585\n",
      "Epoch 14/100\n",
      "47/47 [==============================] - 8s 180ms/step - loss: 2.0477 - val_loss: 4.8583\n",
      "Epoch 15/100\n",
      "47/47 [==============================] - 10s 216ms/step - loss: 2.0400 - val_loss: 4.8420\n",
      "Epoch 16/100\n",
      "47/47 [==============================] - 10s 215ms/step - loss: 2.0455 - val_loss: 4.8475\n",
      "Epoch 17/100\n",
      "47/47 [==============================] - 9s 194ms/step - loss: 2.0406 - val_loss: 4.8454\n",
      "Epoch 18/100\n",
      "47/47 [==============================] - 10s 202ms/step - loss: 2.0387 - val_loss: 4.8399\n",
      "Epoch 19/100\n",
      "47/47 [==============================] - 10s 214ms/step - loss: 2.0403 - val_loss: 4.8405\n",
      "11/11 [==============================] - 0s 31ms/step - loss: 2.1994\n"
     ]
    },
    {
     "data": {
      "text/plain": [
       "2.199357509613037"
      ]
     },
     "execution_count": 17,
     "metadata": {},
     "output_type": "execute_result"
    }
   ],
   "source": [
    "best_models = random_search_tuner.get_best_models(num_models=1)\n",
    "best_model = best_models[0]\n",
    "\n",
    "early_stopping_cb = tf.keras.callbacks.EarlyStopping(patience=10,\n",
    "                                                  mode=\"max\")\n",
    "\n",
    "run_model = best_model.fit(X_train, y_train, epochs=100, batch_size=32,\n",
    "               validation_data=(X_valid, y_valid),\n",
    "               callbacks=[early_stopping_cb])\n",
    "\n",
    "best_model.evaluate(X_test, y_test)"
   ]
  },
  {
   "cell_type": "markdown",
   "metadata": {
    "id": "4N7PPCVmbLMc"
   },
   "source": [
    "Test Loss of RNN Model-MSE"
   ]
  },
  {
   "cell_type": "code",
   "execution_count": 18,
   "metadata": {
    "colab": {
     "base_uri": "https://localhost:8080/"
    },
    "id": "uUPGkzb-oPUe",
    "outputId": "8cf3273f-f1c5-4904-df97-8e92c98eed77"
   },
   "outputs": [
    {
     "name": "stdout",
     "output_type": "stream",
     "text": [
      "11/11 [==============================] - 0s 31ms/step - loss: 2.1994\n"
     ]
    },
    {
     "data": {
      "text/plain": [
       "1.4830230981387436"
      ]
     },
     "execution_count": 18,
     "metadata": {},
     "output_type": "execute_result"
    }
   ],
   "source": [
    "test_loss = best_model.evaluate(X_test, y_test)\n",
    "np.sqrt(test_loss)"
   ]
  },
  {
   "cell_type": "markdown",
   "metadata": {
    "id": "6EuzHMWkbta3"
   },
   "source": [
    "Predict Next MSFT price change"
   ]
  },
  {
   "cell_type": "code",
   "execution_count": 19,
   "metadata": {
    "colab": {
     "base_uri": "https://localhost:8080/"
    },
    "id": "7fUktp7vXKNM",
    "outputId": "f6cc9efe-f03a-4b57-d901-5abc887f88a6"
   },
   "outputs": [
    {
     "name": "stdout",
     "output_type": "stream",
     "text": [
      "1/1 [==============================] - 1s 1s/step\n"
     ]
    },
    {
     "data": {
      "text/plain": [
       "array([[0.0983042]], dtype=float32)"
      ]
     },
     "execution_count": 19,
     "metadata": {},
     "output_type": "execute_result"
    }
   ],
   "source": [
    "predict_MSFT = best_model.predict(X_predict)\n",
    "predict_MSFT"
   ]
  },
  {
   "cell_type": "code",
   "execution_count": 20,
   "metadata": {
    "colab": {
     "base_uri": "https://localhost:8080/"
    },
    "id": "dTqJZBsBZxXH",
    "outputId": "475e76bf-bc1b-4093-d351-1f16193e9540"
   },
   "outputs": [
    {
     "data": {
      "text/plain": [
       "array([[0.7400477]])"
      ]
     },
     "execution_count": 20,
     "metadata": {},
     "output_type": "execute_result"
    }
   ],
   "source": [
    "y_predict"
   ]
  },
  {
   "cell_type": "markdown",
   "metadata": {
    "id": "VdBjbERKYXop"
   },
   "source": [
    "Real:0.74"
   ]
  },
  {
   "cell_type": "markdown",
   "metadata": {
    "id": "WM6swlpaZ4Gi"
   },
   "source": [
    "Predict Next V price change"
   ]
  },
  {
   "cell_type": "code",
   "execution_count": 21,
   "metadata": {
    "id": "ocpOIpd4Z1Mp"
   },
   "outputs": [],
   "source": [
    "training_stock = \"V\"\n",
    "train, valid, test,predict  = data_generator(training_stock)\n",
    "X_train, y_train = tsv_generator(train)\n",
    "X_valid, y_valid = tsv_generator(valid)\n",
    "X_test, y_test = tsv_generator(test)\n",
    "X_predict, y_predict = tsv_generator(predict)"
   ]
  },
  {
   "cell_type": "code",
   "execution_count": 22,
   "metadata": {
    "id": "AnuESS_lag4E"
   },
   "outputs": [],
   "source": [
    "X_train = np.reshape(X_train, (X_train.shape[0], X_train.shape[1],1))\n",
    "y_train = np.reshape(y_train, (y_train.shape[0],1))\n",
    "\n",
    "X_valid = np.reshape(X_valid, (X_valid.shape[0], X_valid.shape[1],1))\n",
    "y_valid = np.reshape(y_valid, (y_valid.shape[0],1))\n",
    "\n",
    "X_test = np.reshape(X_test, (X_test.shape[0], X_test.shape[1],1))\n",
    "y_test = np.reshape(y_test, (y_test.shape[0],1))\n",
    "\n",
    "X_predict = np.reshape(X_predict, (X_predict.shape[0], X_predict.shape[1],1))\n",
    "y_predict_V = np.reshape(y_predict, (y_predict.shape[0],1))"
   ]
  },
  {
   "cell_type": "code",
   "execution_count": 23,
   "metadata": {
    "colab": {
     "base_uri": "https://localhost:8080/"
    },
    "id": "VcW8cVqZbAlT",
    "outputId": "ab2db1cf-a618-44b5-ed5c-30100e24a2fc"
   },
   "outputs": [
    {
     "name": "stdout",
     "output_type": "stream",
     "text": [
      "Epoch 1/100\n",
      "47/47 [==============================] - 24s 230ms/step - loss: 1.7000 - val_loss: 4.4946\n",
      "Epoch 2/100\n",
      "47/47 [==============================] - 8s 179ms/step - loss: 1.6993 - val_loss: 4.4931\n",
      "Epoch 3/100\n",
      "47/47 [==============================] - 10s 215ms/step - loss: 1.6865 - val_loss: 4.4928\n",
      "Epoch 4/100\n",
      "47/47 [==============================] - 10s 216ms/step - loss: 1.7045 - val_loss: 4.4941\n",
      "Epoch 5/100\n",
      "47/47 [==============================] - 8s 179ms/step - loss: 1.6888 - val_loss: 4.5128\n",
      "Epoch 6/100\n",
      "47/47 [==============================] - 10s 216ms/step - loss: 1.6943 - val_loss: 4.5052\n",
      "Epoch 7/100\n",
      "47/47 [==============================] - 10s 215ms/step - loss: 1.6891 - val_loss: 4.5022\n",
      "Epoch 8/100\n",
      "47/47 [==============================] - 10s 223ms/step - loss: 1.6966 - val_loss: 4.5080\n",
      "Epoch 9/100\n",
      "47/47 [==============================] - 8s 180ms/step - loss: 1.6867 - val_loss: 4.5174\n",
      "Epoch 10/100\n",
      "47/47 [==============================] - 10s 215ms/step - loss: 1.6866 - val_loss: 4.5087\n",
      "Epoch 11/100\n",
      "47/47 [==============================] - 10s 216ms/step - loss: 1.6900 - val_loss: 4.5043\n",
      "Epoch 12/100\n",
      "47/47 [==============================] - 8s 180ms/step - loss: 1.6805 - val_loss: 4.5082\n",
      "Epoch 13/100\n",
      "47/47 [==============================] - 10s 216ms/step - loss: 1.6946 - val_loss: 4.5055\n",
      "Epoch 14/100\n",
      "47/47 [==============================] - 10s 216ms/step - loss: 1.6936 - val_loss: 4.5032\n",
      "Epoch 15/100\n",
      "47/47 [==============================] - 9s 191ms/step - loss: 1.6825 - val_loss: 4.4956\n",
      "Epoch 16/100\n",
      "47/47 [==============================] - 10s 203ms/step - loss: 1.6922 - val_loss: 4.4976\n",
      "Epoch 17/100\n",
      "47/47 [==============================] - 10s 218ms/step - loss: 1.6869 - val_loss: 4.4943\n",
      "Epoch 18/100\n",
      "47/47 [==============================] - 10s 209ms/step - loss: 1.6861 - val_loss: 4.4927\n",
      "Epoch 19/100\n",
      "47/47 [==============================] - 9s 186ms/step - loss: 1.6850 - val_loss: 4.4976\n",
      "1/1 [==============================] - 1s 941ms/step\n"
     ]
    },
    {
     "data": {
      "text/plain": [
       "array([[0.10754932]], dtype=float32)"
      ]
     },
     "execution_count": 23,
     "metadata": {},
     "output_type": "execute_result"
    }
   ],
   "source": [
    "reset_session()\n",
    "best_models = random_search_tuner.get_best_models(num_models=1)\n",
    "best_model = best_models[0]\n",
    "\n",
    "early_stopping_cb = tf.keras.callbacks.EarlyStopping(patience=10,\n",
    "                                                  mode=\"max\")\n",
    "\n",
    "run_model = best_model.fit(X_train, y_train, epochs=100, batch_size=32,\n",
    "               validation_data=(X_valid, y_valid),\n",
    "               callbacks=[early_stopping_cb])\n",
    "\n",
    "predict_V = best_model.predict(X_predict)\n",
    "predict_V"
   ]
  },
  {
   "cell_type": "code",
   "execution_count": 24,
   "metadata": {
    "colab": {
     "base_uri": "https://localhost:8080/"
    },
    "id": "RX46Ju73bUz9",
    "outputId": "cccc3760-5797-4385-e48c-c6b4574face8"
   },
   "outputs": [
    {
     "data": {
      "text/plain": [
       "array([[0.09480335]])"
      ]
     },
     "execution_count": 24,
     "metadata": {},
     "output_type": "execute_result"
    }
   ],
   "source": [
    "y_predict_V"
   ]
  },
  {
   "cell_type": "markdown",
   "metadata": {
    "id": "V9krJlbQbXwZ"
   },
   "source": [
    "Predict Next AAPL price change"
   ]
  },
  {
   "cell_type": "code",
   "execution_count": 25,
   "metadata": {
    "id": "_r69dN73bWyh"
   },
   "outputs": [],
   "source": [
    "training_stock = \"AAPL\"\n",
    "train, valid, test,predict  = data_generator(training_stock)\n",
    "X_train, y_train = tsv_generator(train)\n",
    "X_valid, y_valid = tsv_generator(valid)\n",
    "X_test, y_test = tsv_generator(test)\n",
    "X_predict, y_predict = tsv_generator(predict)"
   ]
  },
  {
   "cell_type": "code",
   "execution_count": 26,
   "metadata": {
    "id": "MALtQ389bgR1"
   },
   "outputs": [],
   "source": [
    "X_train = np.reshape(X_train, (X_train.shape[0], X_train.shape[1],1))\n",
    "y_train = np.reshape(y_train, (y_train.shape[0],1))\n",
    "\n",
    "X_valid = np.reshape(X_valid, (X_valid.shape[0], X_valid.shape[1],1))\n",
    "y_valid = np.reshape(y_valid, (y_valid.shape[0],1))\n",
    "\n",
    "X_test = np.reshape(X_test, (X_test.shape[0], X_test.shape[1],1))\n",
    "y_test = np.reshape(y_test, (y_test.shape[0],1))\n",
    "\n",
    "X_predict = np.reshape(X_predict, (X_predict.shape[0], X_predict.shape[1],1))\n",
    "y_predict_AAPL = np.reshape(y_predict, (y_predict.shape[0],1))"
   ]
  },
  {
   "cell_type": "code",
   "execution_count": 27,
   "metadata": {
    "colab": {
     "base_uri": "https://localhost:8080/"
    },
    "id": "GgaW0QHKbh7G",
    "outputId": "ca4c06aa-4b27-48fe-f399-4e04ffafbd10"
   },
   "outputs": [
    {
     "name": "stdout",
     "output_type": "stream",
     "text": [
      "Epoch 1/100\n",
      "47/47 [==============================] - 24s 229ms/step - loss: 2.3674 - val_loss: 5.4570\n",
      "Epoch 2/100\n",
      "47/47 [==============================] - 9s 182ms/step - loss: 2.3779 - val_loss: 5.4574\n",
      "Epoch 3/100\n",
      "47/47 [==============================] - 10s 217ms/step - loss: 2.3681 - val_loss: 5.4580\n",
      "Epoch 4/100\n",
      "47/47 [==============================] - 10s 217ms/step - loss: 2.3790 - val_loss: 5.4579\n",
      "Epoch 5/100\n",
      "47/47 [==============================] - 8s 179ms/step - loss: 2.3553 - val_loss: 5.4585\n",
      "Epoch 6/100\n",
      "47/47 [==============================] - 10s 216ms/step - loss: 2.3776 - val_loss: 5.4570\n",
      "Epoch 7/100\n",
      "47/47 [==============================] - 10s 216ms/step - loss: 2.3542 - val_loss: 5.4586\n",
      "Epoch 8/100\n",
      "47/47 [==============================] - 9s 192ms/step - loss: 2.3977 - val_loss: 5.4596\n",
      "Epoch 9/100\n",
      "47/47 [==============================] - 10s 204ms/step - loss: 2.3669 - val_loss: 5.4622\n",
      "Epoch 10/100\n",
      "47/47 [==============================] - 10s 217ms/step - loss: 2.3694 - val_loss: 5.4591\n",
      "Epoch 11/100\n",
      "47/47 [==============================] - 10s 203ms/step - loss: 2.3670 - val_loss: 5.4606\n",
      "Epoch 12/100\n",
      "47/47 [==============================] - 9s 189ms/step - loss: 2.3812 - val_loss: 5.4617\n",
      "Epoch 13/100\n",
      "47/47 [==============================] - 10s 217ms/step - loss: 2.3616 - val_loss: 5.4594\n",
      "Epoch 14/100\n",
      "47/47 [==============================] - 10s 215ms/step - loss: 2.3651 - val_loss: 5.4592\n",
      "Epoch 15/100\n",
      "47/47 [==============================] - 8s 180ms/step - loss: 2.3715 - val_loss: 5.4569\n",
      "Epoch 16/100\n",
      "47/47 [==============================] - 10s 218ms/step - loss: 2.3751 - val_loss: 5.4584\n",
      "Epoch 17/100\n",
      "47/47 [==============================] - 10s 215ms/step - loss: 2.3785 - val_loss: 5.4601\n",
      "Epoch 18/100\n",
      "47/47 [==============================] - 8s 179ms/step - loss: 2.3655 - val_loss: 5.4603\n",
      "Epoch 19/100\n",
      "47/47 [==============================] - 10s 216ms/step - loss: 2.3750 - val_loss: 5.4590\n",
      "1/1 [==============================] - 1s 923ms/step\n"
     ]
    },
    {
     "data": {
      "text/plain": [
       "array([[0.11547567]], dtype=float32)"
      ]
     },
     "execution_count": 27,
     "metadata": {},
     "output_type": "execute_result"
    }
   ],
   "source": [
    "reset_session()\n",
    "best_models = random_search_tuner.get_best_models(num_models=1)\n",
    "best_model = best_models[0]\n",
    "\n",
    "early_stopping_cb = tf.keras.callbacks.EarlyStopping(patience=10,\n",
    "                                                  mode=\"max\")\n",
    "\n",
    "run_model = best_model.fit(X_train, y_train, epochs=100, batch_size=32,\n",
    "               validation_data=(X_valid, y_valid),\n",
    "               callbacks=[early_stopping_cb])\n",
    "\n",
    "predict_AAPL = best_model.predict(X_predict)\n",
    "predict_AAPL"
   ]
  },
  {
   "cell_type": "code",
   "execution_count": 28,
   "metadata": {
    "colab": {
     "base_uri": "https://localhost:8080/"
    },
    "id": "CrvicREybjPn",
    "outputId": "bda4f1d1-b7a1-4c5f-d11f-ba3af9e90c80"
   },
   "outputs": [
    {
     "data": {
      "text/plain": [
       "array([[1.65881355]])"
      ]
     },
     "execution_count": 28,
     "metadata": {},
     "output_type": "execute_result"
    }
   ],
   "source": [
    "y_predict_AAPL"
   ]
  },
  {
   "cell_type": "markdown",
   "metadata": {
    "id": "tP6FTmNVbyU1"
   },
   "source": [
    "Predict next DJI price"
   ]
  },
  {
   "cell_type": "code",
   "execution_count": 48,
   "metadata": {
    "id": "591Q3Dkjb2kJ"
   },
   "outputs": [],
   "source": [
    "training_stock = \"^DJI\"\n",
    "train, valid, test,predict  = data_generator(training_stock)\n",
    "X_train, y_train = tsv_generator(train)\n",
    "X_valid, y_valid = tsv_generator(valid)\n",
    "X_test, y_test = tsv_generator(test)\n",
    "X_predict, y_predict = tsv_generator(predict)"
   ]
  },
  {
   "cell_type": "code",
   "execution_count": 49,
   "metadata": {
    "id": "DyX-uaIRk8tq"
   },
   "outputs": [],
   "source": [
    "from sklearn.preprocessing import StandardScaler\n",
    "\n",
    "scaler_1 = StandardScaler()\n",
    "\n",
    "X_train = scaler_1.fit_transform(X_train)\n",
    "X_valid = scaler_1.fit_transform(X_valid)\n",
    "X_test = scaler_1.fit_transform(X_test)\n",
    "X_predict = scaler_1.fit_transform(X_predict)"
   ]
  },
  {
   "cell_type": "code",
   "execution_count": 50,
   "metadata": {
    "id": "t-Y6bmfmb51d"
   },
   "outputs": [],
   "source": [
    "X_train = np.reshape(X_train, (X_train.shape[0], X_train.shape[1],1))\n",
    "y_train = np.reshape(y_train, (y_train.shape[0],1))\n",
    "\n",
    "X_valid = np.reshape(X_valid, (X_valid.shape[0], X_valid.shape[1],1))\n",
    "y_valid = np.reshape(y_valid, (y_valid.shape[0],1))\n",
    "\n",
    "X_test = np.reshape(X_test, (X_test.shape[0], X_test.shape[1],1))\n",
    "y_test = np.reshape(y_test, (y_test.shape[0],1))\n",
    "\n",
    "X_predict = np.reshape(X_predict, (X_predict.shape[0], X_predict.shape[1],1))\n",
    "y_predict_DJI = np.reshape(y_predict, (y_predict.shape[0],1))"
   ]
  },
  {
   "cell_type": "code",
   "execution_count": 51,
   "metadata": {
    "colab": {
     "base_uri": "https://localhost:8080/"
    },
    "id": "BqJmePz6bvD3",
    "outputId": "8eed7c5d-b1f9-4f7d-d386-80ae5729d29e"
   },
   "outputs": [
    {
     "name": "stdout",
     "output_type": "stream",
     "text": [
      "Trial 5 Complete [00h 04m 42s]\n",
      "val_loss: nan\n",
      "\n",
      "Best val_loss So Far: 2.5398988723754883\n",
      "Total elapsed time: 00h 17m 53s\n",
      "Trial 0 summary\n",
      "Hyperparameters:\n",
      "n_hidden: 8\n",
      "n_neurons: 34\n",
      "learning_rate: 0.019023652230789233\n",
      "optimizer: adam\n",
      "momentum: 0.1397735289488119\n",
      "weight_decay: 0.9149576743714959\n",
      "dropout: 0.7998929775629741\n",
      "recurrent_dropout: 0.8386385892758781\n",
      "lstm_units: 27\n",
      "Score: 2.5398988723754883\n"
     ]
    }
   ],
   "source": [
    "random_search_tuner = kt.RandomSearch(\n",
    "    build_RNN_model, objective=\"val_loss\", max_trials=5,  overwrite=True)\n",
    "\n",
    "random_search_tuner.search(X_train[:1000], y_train[:1000], epochs=20,\n",
    "                           validation_data=(X_valid, y_valid)\n",
    "                          )\n",
    "\n",
    "best_trial = random_search_tuner.oracle.get_best_trials(num_trials=1)[0]\n",
    "best_trial.summary()"
   ]
  },
  {
   "cell_type": "code",
   "execution_count": 52,
   "metadata": {
    "colab": {
     "base_uri": "https://localhost:8080/"
    },
    "id": "MQJvqv4PcLEY",
    "outputId": "104f5673-d2d3-4f8d-c6cf-1e4f6b98235d"
   },
   "outputs": [
    {
     "name": "stdout",
     "output_type": "stream",
     "text": [
      "Epoch 1/100\n",
      "47/47 [==============================] - 26s 272ms/step - loss: 0.7276 - val_loss: 2.5402\n",
      "Epoch 2/100\n",
      "47/47 [==============================] - 11s 245ms/step - loss: 0.7355 - val_loss: 2.5757\n",
      "Epoch 3/100\n",
      "47/47 [==============================] - 11s 244ms/step - loss: 0.7379 - val_loss: 2.7171\n",
      "Epoch 4/100\n",
      "47/47 [==============================] - 11s 243ms/step - loss: 0.7309 - val_loss: 2.5400\n",
      "Epoch 5/100\n",
      "47/47 [==============================] - 12s 250ms/step - loss: 0.7465 - val_loss: 2.5419\n",
      "Epoch 6/100\n",
      "47/47 [==============================] - 10s 209ms/step - loss: 0.7381 - val_loss: 2.5401\n",
      "Epoch 7/100\n",
      "47/47 [==============================] - 11s 243ms/step - loss: 0.7389 - val_loss: 2.5856\n",
      "Epoch 8/100\n",
      "47/47 [==============================] - 11s 244ms/step - loss: 0.7433 - val_loss: 2.5778\n",
      "Epoch 9/100\n",
      "47/47 [==============================] - 11s 243ms/step - loss: 0.7526 - val_loss: 2.5431\n",
      "Epoch 10/100\n",
      "47/47 [==============================] - 12s 251ms/step - loss: 0.7356 - val_loss: 2.5429\n",
      "Epoch 11/100\n",
      "47/47 [==============================] - 10s 220ms/step - loss: 0.7243 - val_loss: 2.6682\n",
      "Epoch 12/100\n",
      "47/47 [==============================] - 11s 233ms/step - loss: 0.7491 - val_loss: 2.5478\n",
      "Epoch 13/100\n",
      "47/47 [==============================] - 12s 247ms/step - loss: 0.7345 - val_loss: 2.5591\n",
      "11/11 [==============================] - 0s 34ms/step - loss: 0.4803\n"
     ]
    },
    {
     "data": {
      "text/plain": [
       "0.48032987117767334"
      ]
     },
     "execution_count": 52,
     "metadata": {},
     "output_type": "execute_result"
    }
   ],
   "source": [
    "best_models = random_search_tuner.get_best_models(num_models=1)\n",
    "best_model = best_models[0]\n",
    "\n",
    "early_stopping_cb = tf.keras.callbacks.EarlyStopping(patience=10,\n",
    "                                                  mode=\"max\")\n",
    "\n",
    "run_model = best_model.fit(X_train, y_train, epochs=100, batch_size=32,\n",
    "               validation_data=(X_valid, y_valid),\n",
    "               callbacks=[early_stopping_cb])\n",
    "\n",
    "best_model.evaluate(X_test, y_test)"
   ]
  },
  {
   "cell_type": "code",
   "execution_count": 53,
   "metadata": {
    "colab": {
     "base_uri": "https://localhost:8080/"
    },
    "id": "L3RMNr2oYGiD",
    "outputId": "62fb9353-3d9f-4daa-9416-ef4cb9097732"
   },
   "outputs": [
    {
     "name": "stdout",
     "output_type": "stream",
     "text": [
      "Epoch 1/100\n",
      "47/47 [==============================] - 27s 288ms/step - loss: 0.7290 - val_loss: 2.5557\n",
      "Epoch 2/100\n",
      "47/47 [==============================] - 10s 222ms/step - loss: 0.7386 - val_loss: 2.5407\n",
      "Epoch 3/100\n",
      "47/47 [==============================] - 11s 232ms/step - loss: 0.7548 - val_loss: 2.5964\n",
      "Epoch 4/100\n",
      "47/47 [==============================] - 11s 245ms/step - loss: 0.7438 - val_loss: 2.5398\n",
      "Epoch 5/100\n",
      "47/47 [==============================] - 11s 246ms/step - loss: 0.7241 - val_loss: 2.6093\n",
      "Epoch 6/100\n",
      "47/47 [==============================] - 11s 245ms/step - loss: 0.7295 - val_loss: 2.5514\n",
      "Epoch 7/100\n",
      "47/47 [==============================] - 12s 255ms/step - loss: 0.7251 - val_loss: 2.6079\n",
      "Epoch 8/100\n",
      "47/47 [==============================] - 10s 220ms/step - loss: 0.7314 - val_loss: 2.5514\n",
      "Epoch 9/100\n",
      "47/47 [==============================] - 11s 233ms/step - loss: 0.7317 - val_loss: 2.6337\n",
      "Epoch 10/100\n",
      "47/47 [==============================] - 12s 247ms/step - loss: 0.7329 - val_loss: 2.5494\n",
      "Epoch 11/100\n",
      "47/47 [==============================] - 12s 245ms/step - loss: 0.7216 - val_loss: 2.6014\n",
      "Epoch 12/100\n",
      "47/47 [==============================] - 11s 245ms/step - loss: 0.7346 - val_loss: 2.6866\n",
      "Epoch 13/100\n",
      "47/47 [==============================] - 12s 249ms/step - loss: 0.7345 - val_loss: 2.5915\n",
      "Epoch 14/100\n",
      "47/47 [==============================] - 10s 209ms/step - loss: 0.7237 - val_loss: 2.8376\n",
      "Epoch 15/100\n",
      "47/47 [==============================] - 12s 244ms/step - loss: 0.7465 - val_loss: 2.9168\n",
      "Epoch 16/100\n",
      "47/47 [==============================] - 12s 247ms/step - loss: 0.7406 - val_loss: 2.6835\n",
      "Epoch 17/100\n",
      "47/47 [==============================] - 11s 245ms/step - loss: 0.7390 - val_loss: 2.5702\n",
      "Epoch 18/100\n",
      "47/47 [==============================] - 12s 253ms/step - loss: 0.7593 - val_loss: 2.5552\n",
      "Epoch 19/100\n",
      "47/47 [==============================] - 10s 220ms/step - loss: 0.7424 - val_loss: 2.5677\n",
      "Epoch 20/100\n",
      "47/47 [==============================] - 11s 232ms/step - loss: 0.7292 - val_loss: 2.5399\n",
      "Epoch 21/100\n",
      "47/47 [==============================] - 11s 246ms/step - loss: 0.7299 - val_loss: 2.5400\n",
      "Epoch 22/100\n",
      "47/47 [==============================] - 11s 243ms/step - loss: 0.7291 - val_loss: 2.5398\n",
      "Epoch 23/100\n",
      "47/47 [==============================] - 11s 245ms/step - loss: 0.7253 - val_loss: 2.5577\n",
      "Epoch 24/100\n",
      "47/47 [==============================] - 11s 228ms/step - loss: 0.7453 - val_loss: 2.5676\n",
      "Epoch 25/100\n",
      "47/47 [==============================] - 11s 223ms/step - loss: 0.7184 - val_loss: 2.5938\n",
      "1/1 [==============================] - 1s 1s/step\n"
     ]
    },
    {
     "data": {
      "text/plain": [
       "array([[0.26170298]], dtype=float32)"
      ]
     },
     "execution_count": 53,
     "metadata": {},
     "output_type": "execute_result"
    }
   ],
   "source": [
    "reset_session()\n",
    "best_models = random_search_tuner.get_best_models(num_models=1)\n",
    "best_model = best_models[0]\n",
    "\n",
    "early_stopping_cb = tf.keras.callbacks.EarlyStopping(patience=10,\n",
    "                                                  mode=\"max\")\n",
    "\n",
    "run_model = best_model.fit(X_train, y_train, epochs=100, batch_size=32,\n",
    "               validation_data=(X_valid, y_valid),\n",
    "               callbacks=[early_stopping_cb])\n",
    "\n",
    "predict_DJI = best_model.predict(X_predict)\n",
    "predict_DJI"
   ]
  },
  {
   "cell_type": "code",
   "execution_count": 54,
   "metadata": {
    "colab": {
     "base_uri": "https://localhost:8080/"
    },
    "id": "nEONVECPcWe_",
    "outputId": "8af44ccc-a631-4748-ae6a-ec54e7ebe6b7"
   },
   "outputs": [
    {
     "data": {
      "text/plain": [
       "array([[0.01107922]])"
      ]
     },
     "execution_count": 54,
     "metadata": {},
     "output_type": "execute_result"
    }
   ],
   "source": [
    "y_predict_DJI"
   ]
  },
  {
   "cell_type": "markdown",
   "metadata": {
    "id": "Q-G09K9BdDba"
   },
   "source": [
    "Comparison"
   ]
  },
  {
   "cell_type": "code",
   "execution_count": 104,
   "metadata": {
    "colab": {
     "base_uri": "https://localhost:8080/"
    },
    "id": "MKbnvmXddC2X",
    "outputId": "fa6f21dc-7265-4504-dc47-a4118393bb4d"
   },
   "outputs": [
    {
     "name": "stdout",
     "output_type": "stream",
     "text": [
      "The predict difference between the Index and the stock price change is [[0.16339877]]\n",
      "The real difference between the Index and the stock price change is [[-0.72896848]]\n",
      "The absolute value of the distance between real and predict is [[0.89236725]]\n"
     ]
    }
   ],
   "source": [
    "predict_diff = predict_DJI - predict_MSFT\n",
    "real_diff = y_predict_DJI  - y_predict\n",
    "error = np.abs(real_diff-predict_diff)\n",
    "print(\"The predict difference between the Index and the stock price change is\", predict_diff)\n",
    "print(\"The real difference between the Index and the stock price change is\", real_diff)\n"
   ]
  },
  {
   "cell_type": "code",
   "execution_count": 56,
   "metadata": {
    "colab": {
     "base_uri": "https://localhost:8080/"
    },
    "id": "53T4TqLXdfli",
    "outputId": "ce9e3f9a-d18d-4fab-9ddf-c71405773cb5"
   },
   "outputs": [
    {
     "name": "stdout",
     "output_type": "stream",
     "text": [
      "The predict difference between the Index and the stock price change is [[0.15415367]]\n",
      "The real difference between the Index and the stock price change is [[-0.08372414]]\n",
      "The absolute value of the distance between real and predict is [[0.23787781]]\n"
     ]
    }
   ],
   "source": [
    "predict_diff = predict_DJI - predict_V\n",
    "real_diff = y_predict_DJI  - y_predict_V\n",
    "error = np.abs(real_diff-predict_diff)\n",
    "print(\"The predict difference between the Index and the stock price change is\", predict_diff)\n",
    "print(\"The real difference between the Index and the stock price change is\", real_diff)\n",
    "print(\"The absolute value of the distance between real and predict is\", error)"
   ]
  },
  {
   "cell_type": "code",
   "execution_count": 57,
   "metadata": {
    "colab": {
     "base_uri": "https://localhost:8080/"
    },
    "id": "1Zo8o6DqdlMw",
    "outputId": "10dbc919-0873-4b69-95b7-e8335a2545eb"
   },
   "outputs": [
    {
     "name": "stdout",
     "output_type": "stream",
     "text": [
      "The predict difference between the Index and the stock price change is [[0.14622732]]\n",
      "The real difference between the Index and the stock price change is [[-1.64773433]]\n",
      "The absolute value of the distance between real and predict is [[1.79396165]]\n"
     ]
    }
   ],
   "source": [
    "predict_diff = predict_DJI - predict_AAPL\n",
    "real_diff = y_predict_DJI  - y_predict_AAPL\n",
    "error = np.abs(real_diff-predict_diff)\n",
    "print(\"The predict difference between the Index and the stock price change is\", predict_diff)\n",
    "print(\"The real difference between the Index and the stock price change is\", real_diff)\n",
    "print(\"The absolute value of the distance between real and predict is\", error)"
   ]
  },
  {
   "cell_type": "markdown",
   "metadata": {
    "id": "kmZlfs3gyJJG"
   },
   "source": [
    "# 4. SVM Model *(Tianrui Zhou)*"
   ]
  },
  {
   "cell_type": "code",
   "execution_count": 58,
   "metadata": {
    "id": "ZypME-i0DIYA"
   },
   "outputs": [],
   "source": [
    "# Use the top stock to find the best parameter for the model\n",
    "training_stock = \"MSFT\"\n",
    "train, valid, test, predict = data_generator(training_stock)\n",
    "X_train, y_train = tsv_generator(train)\n",
    "X_valid, y_valid = tsv_generator(valid)\n",
    "X_test, y_test = tsv_generator(test)\n",
    "X_predict, y_predict = tsv_generator(predict)"
   ]
  },
  {
   "cell_type": "code",
   "execution_count": 59,
   "metadata": {
    "colab": {
     "base_uri": "https://localhost:8080/",
     "height": 475
    },
    "id": "SaOOuCf8Curx",
    "outputId": "877655bc-0172-4324-de6d-b12b8c4ff126"
   },
   "outputs": [
    {
     "data": {
      "application/vnd.google.colaboratory.intrinsic+json": {
       "summary": "{\n  \"name\": \"train\",\n  \"rows\": 1509,\n  \"fields\": [\n    {\n      \"column\": \"Date\",\n      \"properties\": {\n        \"dtype\": \"date\",\n        \"min\": \"2014-01-03 00:00:00\",\n        \"max\": \"2019-12-31 00:00:00\",\n        \"num_unique_values\": 1509,\n        \"samples\": [\n          \"2016-04-21 00:00:00\",\n          \"2018-07-24 00:00:00\",\n          \"2015-07-13 00:00:00\"\n        ],\n        \"semantic_type\": \"\",\n        \"description\": \"\"\n      }\n    },\n    {\n      \"column\": \"Pct_Change_Price\",\n      \"properties\": {\n        \"dtype\": \"number\",\n        \"std\": 1.4279205181019492,\n        \"min\": -9.25334743551469,\n        \"max\": 10.452235263839471,\n        \"num_unique_values\": 1493,\n        \"samples\": [\n          0.16533751412137754,\n          -0.5027790944419408,\n          0.5387421158289829\n        ],\n        \"semantic_type\": \"\",\n        \"description\": \"\"\n      }\n    },\n    {\n      \"column\": \"Pct_Change_Volume\",\n      \"properties\": {\n        \"dtype\": \"number\",\n        \"std\": 42.089016138473454,\n        \"min\": -80.89786611258805,\n        \"max\": 524.2732348403282,\n        \"num_unique_values\": 1509,\n        \"samples\": [\n          7.496470575234082,\n          -11.412798330359852,\n          10.651540497451496\n        ],\n        \"semantic_type\": \"\",\n        \"description\": \"\"\n      }\n    },\n    {\n      \"column\": \"M\",\n      \"properties\": {\n        \"dtype\": \"boolean\",\n        \"num_unique_values\": 2,\n        \"samples\": [\n          true,\n          false\n        ],\n        \"semantic_type\": \"\",\n        \"description\": \"\"\n      }\n    },\n    {\n      \"column\": \"T\",\n      \"properties\": {\n        \"dtype\": \"boolean\",\n        \"num_unique_values\": 2,\n        \"samples\": [\n          true,\n          false\n        ],\n        \"semantic_type\": \"\",\n        \"description\": \"\"\n      }\n    },\n    {\n      \"column\": \"W\",\n      \"properties\": {\n        \"dtype\": \"boolean\",\n        \"num_unique_values\": 2,\n        \"samples\": [\n          true,\n          false\n        ],\n        \"semantic_type\": \"\",\n        \"description\": \"\"\n      }\n    },\n    {\n      \"column\": \"Th\",\n      \"properties\": {\n        \"dtype\": \"boolean\",\n        \"num_unique_values\": 2,\n        \"samples\": [\n          true,\n          false\n        ],\n        \"semantic_type\": \"\",\n        \"description\": \"\"\n      }\n    },\n    {\n      \"column\": \"F\",\n      \"properties\": {\n        \"dtype\": \"boolean\",\n        \"num_unique_values\": 2,\n        \"samples\": [\n          false,\n          true\n        ],\n        \"semantic_type\": \"\",\n        \"description\": \"\"\n      }\n    }\n  ]\n}",
       "type": "dataframe",
       "variable_name": "train"
      },
      "text/html": [
       "\n",
       "  <div id=\"df-ac691d44-3434-4235-8d75-4e95d274ae73\" class=\"colab-df-container\">\n",
       "    <div>\n",
       "<style scoped>\n",
       "    .dataframe tbody tr th:only-of-type {\n",
       "        vertical-align: middle;\n",
       "    }\n",
       "\n",
       "    .dataframe tbody tr th {\n",
       "        vertical-align: top;\n",
       "    }\n",
       "\n",
       "    .dataframe thead th {\n",
       "        text-align: right;\n",
       "    }\n",
       "</style>\n",
       "<table border=\"1\" class=\"dataframe\">\n",
       "  <thead>\n",
       "    <tr style=\"text-align: right;\">\n",
       "      <th></th>\n",
       "      <th>Pct_Change_Price</th>\n",
       "      <th>Pct_Change_Volume</th>\n",
       "      <th>M</th>\n",
       "      <th>T</th>\n",
       "      <th>W</th>\n",
       "      <th>Th</th>\n",
       "      <th>F</th>\n",
       "    </tr>\n",
       "    <tr>\n",
       "      <th>Date</th>\n",
       "      <th></th>\n",
       "      <th></th>\n",
       "      <th></th>\n",
       "      <th></th>\n",
       "      <th></th>\n",
       "      <th></th>\n",
       "      <th></th>\n",
       "    </tr>\n",
       "  </thead>\n",
       "  <tbody>\n",
       "    <tr>\n",
       "      <th>2014-01-03</th>\n",
       "      <td>-0.672766</td>\n",
       "      <td>1.640757</td>\n",
       "      <td>False</td>\n",
       "      <td>False</td>\n",
       "      <td>False</td>\n",
       "      <td>False</td>\n",
       "      <td>True</td>\n",
       "    </tr>\n",
       "    <tr>\n",
       "      <th>2014-01-06</th>\n",
       "      <td>-2.113245</td>\n",
       "      <td>40.048113</td>\n",
       "      <td>True</td>\n",
       "      <td>False</td>\n",
       "      <td>False</td>\n",
       "      <td>False</td>\n",
       "      <td>False</td>\n",
       "    </tr>\n",
       "    <tr>\n",
       "      <th>2014-01-07</th>\n",
       "      <td>0.774976</td>\n",
       "      <td>-17.890454</td>\n",
       "      <td>False</td>\n",
       "      <td>True</td>\n",
       "      <td>False</td>\n",
       "      <td>False</td>\n",
       "      <td>False</td>\n",
       "    </tr>\n",
       "    <tr>\n",
       "      <th>2014-01-08</th>\n",
       "      <td>-1.785228</td>\n",
       "      <td>67.505614</td>\n",
       "      <td>False</td>\n",
       "      <td>False</td>\n",
       "      <td>True</td>\n",
       "      <td>False</td>\n",
       "      <td>False</td>\n",
       "    </tr>\n",
       "    <tr>\n",
       "      <th>2014-01-09</th>\n",
       "      <td>-0.643175</td>\n",
       "      <td>-39.110781</td>\n",
       "      <td>False</td>\n",
       "      <td>False</td>\n",
       "      <td>False</td>\n",
       "      <td>True</td>\n",
       "      <td>False</td>\n",
       "    </tr>\n",
       "    <tr>\n",
       "      <th>...</th>\n",
       "      <td>...</td>\n",
       "      <td>...</td>\n",
       "      <td>...</td>\n",
       "      <td>...</td>\n",
       "      <td>...</td>\n",
       "      <td>...</td>\n",
       "      <td>...</td>\n",
       "    </tr>\n",
       "    <tr>\n",
       "      <th>2019-12-24</th>\n",
       "      <td>-0.019058</td>\n",
       "      <td>-49.265727</td>\n",
       "      <td>False</td>\n",
       "      <td>True</td>\n",
       "      <td>False</td>\n",
       "      <td>False</td>\n",
       "      <td>False</td>\n",
       "    </tr>\n",
       "    <tr>\n",
       "      <th>2019-12-26</th>\n",
       "      <td>0.819668</td>\n",
       "      <td>61.533841</td>\n",
       "      <td>False</td>\n",
       "      <td>False</td>\n",
       "      <td>False</td>\n",
       "      <td>True</td>\n",
       "      <td>False</td>\n",
       "    </tr>\n",
       "    <tr>\n",
       "      <th>2019-12-27</th>\n",
       "      <td>0.182775</td>\n",
       "      <td>26.804677</td>\n",
       "      <td>False</td>\n",
       "      <td>False</td>\n",
       "      <td>False</td>\n",
       "      <td>False</td>\n",
       "      <td>True</td>\n",
       "    </tr>\n",
       "    <tr>\n",
       "      <th>2019-12-30</th>\n",
       "      <td>-0.861859</td>\n",
       "      <td>-11.211766</td>\n",
       "      <td>True</td>\n",
       "      <td>False</td>\n",
       "      <td>False</td>\n",
       "      <td>False</td>\n",
       "      <td>False</td>\n",
       "    </tr>\n",
       "    <tr>\n",
       "      <th>2019-12-31</th>\n",
       "      <td>0.069802</td>\n",
       "      <td>12.362066</td>\n",
       "      <td>False</td>\n",
       "      <td>True</td>\n",
       "      <td>False</td>\n",
       "      <td>False</td>\n",
       "      <td>False</td>\n",
       "    </tr>\n",
       "  </tbody>\n",
       "</table>\n",
       "<p>1509 rows × 7 columns</p>\n",
       "</div>\n",
       "    <div class=\"colab-df-buttons\">\n",
       "\n",
       "  <div class=\"colab-df-container\">\n",
       "    <button class=\"colab-df-convert\" onclick=\"convertToInteractive('df-ac691d44-3434-4235-8d75-4e95d274ae73')\"\n",
       "            title=\"Convert this dataframe to an interactive table.\"\n",
       "            style=\"display:none;\">\n",
       "\n",
       "  <svg xmlns=\"http://www.w3.org/2000/svg\" height=\"24px\" viewBox=\"0 -960 960 960\">\n",
       "    <path d=\"M120-120v-720h720v720H120Zm60-500h600v-160H180v160Zm220 220h160v-160H400v160Zm0 220h160v-160H400v160ZM180-400h160v-160H180v160Zm440 0h160v-160H620v160ZM180-180h160v-160H180v160Zm440 0h160v-160H620v160Z\"/>\n",
       "  </svg>\n",
       "    </button>\n",
       "\n",
       "  <style>\n",
       "    .colab-df-container {\n",
       "      display:flex;\n",
       "      gap: 12px;\n",
       "    }\n",
       "\n",
       "    .colab-df-convert {\n",
       "      background-color: #E8F0FE;\n",
       "      border: none;\n",
       "      border-radius: 50%;\n",
       "      cursor: pointer;\n",
       "      display: none;\n",
       "      fill: #1967D2;\n",
       "      height: 32px;\n",
       "      padding: 0 0 0 0;\n",
       "      width: 32px;\n",
       "    }\n",
       "\n",
       "    .colab-df-convert:hover {\n",
       "      background-color: #E2EBFA;\n",
       "      box-shadow: 0px 1px 2px rgba(60, 64, 67, 0.3), 0px 1px 3px 1px rgba(60, 64, 67, 0.15);\n",
       "      fill: #174EA6;\n",
       "    }\n",
       "\n",
       "    .colab-df-buttons div {\n",
       "      margin-bottom: 4px;\n",
       "    }\n",
       "\n",
       "    [theme=dark] .colab-df-convert {\n",
       "      background-color: #3B4455;\n",
       "      fill: #D2E3FC;\n",
       "    }\n",
       "\n",
       "    [theme=dark] .colab-df-convert:hover {\n",
       "      background-color: #434B5C;\n",
       "      box-shadow: 0px 1px 3px 1px rgba(0, 0, 0, 0.15);\n",
       "      filter: drop-shadow(0px 1px 2px rgba(0, 0, 0, 0.3));\n",
       "      fill: #FFFFFF;\n",
       "    }\n",
       "  </style>\n",
       "\n",
       "    <script>\n",
       "      const buttonEl =\n",
       "        document.querySelector('#df-ac691d44-3434-4235-8d75-4e95d274ae73 button.colab-df-convert');\n",
       "      buttonEl.style.display =\n",
       "        google.colab.kernel.accessAllowed ? 'block' : 'none';\n",
       "\n",
       "      async function convertToInteractive(key) {\n",
       "        const element = document.querySelector('#df-ac691d44-3434-4235-8d75-4e95d274ae73');\n",
       "        const dataTable =\n",
       "          await google.colab.kernel.invokeFunction('convertToInteractive',\n",
       "                                                    [key], {});\n",
       "        if (!dataTable) return;\n",
       "\n",
       "        const docLinkHtml = 'Like what you see? Visit the ' +\n",
       "          '<a target=\"_blank\" href=https://colab.research.google.com/notebooks/data_table.ipynb>data table notebook</a>'\n",
       "          + ' to learn more about interactive tables.';\n",
       "        element.innerHTML = '';\n",
       "        dataTable['output_type'] = 'display_data';\n",
       "        await google.colab.output.renderOutput(dataTable, element);\n",
       "        const docLink = document.createElement('div');\n",
       "        docLink.innerHTML = docLinkHtml;\n",
       "        element.appendChild(docLink);\n",
       "      }\n",
       "    </script>\n",
       "  </div>\n",
       "\n",
       "\n",
       "<div id=\"df-b67b4e2c-da5e-4cdd-add6-91e07dd7fd5c\">\n",
       "  <button class=\"colab-df-quickchart\" onclick=\"quickchart('df-b67b4e2c-da5e-4cdd-add6-91e07dd7fd5c')\"\n",
       "            title=\"Suggest charts\"\n",
       "            style=\"display:none;\">\n",
       "\n",
       "<svg xmlns=\"http://www.w3.org/2000/svg\" height=\"24px\"viewBox=\"0 0 24 24\"\n",
       "     width=\"24px\">\n",
       "    <g>\n",
       "        <path d=\"M19 3H5c-1.1 0-2 .9-2 2v14c0 1.1.9 2 2 2h14c1.1 0 2-.9 2-2V5c0-1.1-.9-2-2-2zM9 17H7v-7h2v7zm4 0h-2V7h2v10zm4 0h-2v-4h2v4z\"/>\n",
       "    </g>\n",
       "</svg>\n",
       "  </button>\n",
       "\n",
       "<style>\n",
       "  .colab-df-quickchart {\n",
       "      --bg-color: #E8F0FE;\n",
       "      --fill-color: #1967D2;\n",
       "      --hover-bg-color: #E2EBFA;\n",
       "      --hover-fill-color: #174EA6;\n",
       "      --disabled-fill-color: #AAA;\n",
       "      --disabled-bg-color: #DDD;\n",
       "  }\n",
       "\n",
       "  [theme=dark] .colab-df-quickchart {\n",
       "      --bg-color: #3B4455;\n",
       "      --fill-color: #D2E3FC;\n",
       "      --hover-bg-color: #434B5C;\n",
       "      --hover-fill-color: #FFFFFF;\n",
       "      --disabled-bg-color: #3B4455;\n",
       "      --disabled-fill-color: #666;\n",
       "  }\n",
       "\n",
       "  .colab-df-quickchart {\n",
       "    background-color: var(--bg-color);\n",
       "    border: none;\n",
       "    border-radius: 50%;\n",
       "    cursor: pointer;\n",
       "    display: none;\n",
       "    fill: var(--fill-color);\n",
       "    height: 32px;\n",
       "    padding: 0;\n",
       "    width: 32px;\n",
       "  }\n",
       "\n",
       "  .colab-df-quickchart:hover {\n",
       "    background-color: var(--hover-bg-color);\n",
       "    box-shadow: 0 1px 2px rgba(60, 64, 67, 0.3), 0 1px 3px 1px rgba(60, 64, 67, 0.15);\n",
       "    fill: var(--button-hover-fill-color);\n",
       "  }\n",
       "\n",
       "  .colab-df-quickchart-complete:disabled,\n",
       "  .colab-df-quickchart-complete:disabled:hover {\n",
       "    background-color: var(--disabled-bg-color);\n",
       "    fill: var(--disabled-fill-color);\n",
       "    box-shadow: none;\n",
       "  }\n",
       "\n",
       "  .colab-df-spinner {\n",
       "    border: 2px solid var(--fill-color);\n",
       "    border-color: transparent;\n",
       "    border-bottom-color: var(--fill-color);\n",
       "    animation:\n",
       "      spin 1s steps(1) infinite;\n",
       "  }\n",
       "\n",
       "  @keyframes spin {\n",
       "    0% {\n",
       "      border-color: transparent;\n",
       "      border-bottom-color: var(--fill-color);\n",
       "      border-left-color: var(--fill-color);\n",
       "    }\n",
       "    20% {\n",
       "      border-color: transparent;\n",
       "      border-left-color: var(--fill-color);\n",
       "      border-top-color: var(--fill-color);\n",
       "    }\n",
       "    30% {\n",
       "      border-color: transparent;\n",
       "      border-left-color: var(--fill-color);\n",
       "      border-top-color: var(--fill-color);\n",
       "      border-right-color: var(--fill-color);\n",
       "    }\n",
       "    40% {\n",
       "      border-color: transparent;\n",
       "      border-right-color: var(--fill-color);\n",
       "      border-top-color: var(--fill-color);\n",
       "    }\n",
       "    60% {\n",
       "      border-color: transparent;\n",
       "      border-right-color: var(--fill-color);\n",
       "    }\n",
       "    80% {\n",
       "      border-color: transparent;\n",
       "      border-right-color: var(--fill-color);\n",
       "      border-bottom-color: var(--fill-color);\n",
       "    }\n",
       "    90% {\n",
       "      border-color: transparent;\n",
       "      border-bottom-color: var(--fill-color);\n",
       "    }\n",
       "  }\n",
       "</style>\n",
       "\n",
       "  <script>\n",
       "    async function quickchart(key) {\n",
       "      const quickchartButtonEl =\n",
       "        document.querySelector('#' + key + ' button');\n",
       "      quickchartButtonEl.disabled = true;  // To prevent multiple clicks.\n",
       "      quickchartButtonEl.classList.add('colab-df-spinner');\n",
       "      try {\n",
       "        const charts = await google.colab.kernel.invokeFunction(\n",
       "            'suggestCharts', [key], {});\n",
       "      } catch (error) {\n",
       "        console.error('Error during call to suggestCharts:', error);\n",
       "      }\n",
       "      quickchartButtonEl.classList.remove('colab-df-spinner');\n",
       "      quickchartButtonEl.classList.add('colab-df-quickchart-complete');\n",
       "    }\n",
       "    (() => {\n",
       "      let quickchartButtonEl =\n",
       "        document.querySelector('#df-b67b4e2c-da5e-4cdd-add6-91e07dd7fd5c button');\n",
       "      quickchartButtonEl.style.display =\n",
       "        google.colab.kernel.accessAllowed ? 'block' : 'none';\n",
       "    })();\n",
       "  </script>\n",
       "</div>\n",
       "    </div>\n",
       "  </div>\n"
      ],
      "text/plain": [
       "            Pct_Change_Price  Pct_Change_Volume      M      T      W     Th  \\\n",
       "Date                                                                          \n",
       "2014-01-03         -0.672766           1.640757  False  False  False  False   \n",
       "2014-01-06         -2.113245          40.048113   True  False  False  False   \n",
       "2014-01-07          0.774976         -17.890454  False   True  False  False   \n",
       "2014-01-08         -1.785228          67.505614  False  False   True  False   \n",
       "2014-01-09         -0.643175         -39.110781  False  False  False   True   \n",
       "...                      ...                ...    ...    ...    ...    ...   \n",
       "2019-12-24         -0.019058         -49.265727  False   True  False  False   \n",
       "2019-12-26          0.819668          61.533841  False  False  False   True   \n",
       "2019-12-27          0.182775          26.804677  False  False  False  False   \n",
       "2019-12-30         -0.861859         -11.211766   True  False  False  False   \n",
       "2019-12-31          0.069802          12.362066  False   True  False  False   \n",
       "\n",
       "                F  \n",
       "Date               \n",
       "2014-01-03   True  \n",
       "2014-01-06  False  \n",
       "2014-01-07  False  \n",
       "2014-01-08  False  \n",
       "2014-01-09  False  \n",
       "...           ...  \n",
       "2019-12-24  False  \n",
       "2019-12-26  False  \n",
       "2019-12-27   True  \n",
       "2019-12-30  False  \n",
       "2019-12-31  False  \n",
       "\n",
       "[1509 rows x 7 columns]"
      ]
     },
     "execution_count": 59,
     "metadata": {},
     "output_type": "execute_result"
    }
   ],
   "source": [
    "train"
   ]
  },
  {
   "cell_type": "code",
   "execution_count": 60,
   "metadata": {
    "colab": {
     "base_uri": "https://localhost:8080/"
    },
    "id": "TMFsDqx7C0UM",
    "outputId": "364a0f29-6ce0-43b1-aea1-23b2e4da2707"
   },
   "outputs": [
    {
     "data": {
      "text/plain": [
       "array([[-0.67276642, -2.11324514,  0.77497584, ...,  0.        ,\n",
       "         0.        ,  0.        ],\n",
       "       [-2.11324514,  0.77497584, -1.78522804, ...,  0.        ,\n",
       "         0.        ,  1.        ],\n",
       "       [ 0.77497584, -1.78522804, -0.64317548, ...,  0.        ,\n",
       "         1.        ,  0.        ],\n",
       "       ...,\n",
       "       [ 1.01516716,  0.84181235,  0.64712354, ...,  0.        ,\n",
       "         0.        ,  0.        ],\n",
       "       [ 0.84181235,  0.64712354, -0.54008638, ...,  0.        ,\n",
       "         0.        ,  1.        ],\n",
       "       [ 0.64712354, -0.54008638, -0.20687008, ...,  0.        ,\n",
       "         1.        ,  0.        ]])"
      ]
     },
     "execution_count": 60,
     "metadata": {},
     "output_type": "execute_result"
    }
   ],
   "source": [
    "X_train"
   ]
  },
  {
   "cell_type": "code",
   "execution_count": 61,
   "metadata": {
    "id": "F4EzZxnfC35n"
   },
   "outputs": [],
   "source": [
    "from sklearn.preprocessing import StandardScaler\n",
    "\n",
    "scaler = StandardScaler()\n",
    "\n",
    "X_train = scaler.fit_transform(X_train)\n",
    "X_valid = scaler.transform(X_valid)\n",
    "X_test = scaler.transform(X_test)\n",
    "X_predict = scaler.transform(X_predict)"
   ]
  },
  {
   "cell_type": "code",
   "execution_count": 62,
   "metadata": {
    "colab": {
     "base_uri": "https://localhost:8080/"
    },
    "id": "vp72HbNLDZDG",
    "outputId": "60b33aad-727e-49b7-c514-968ef5218bff"
   },
   "outputs": [
    {
     "name": "stderr",
     "output_type": "stream",
     "text": [
      "/usr/local/lib/python3.10/dist-packages/joblib/externals/loky/backend/fork_exec.py:38: RuntimeWarning: os.fork() was called. os.fork() is incompatible with multithreaded code, and JAX is multithreaded, so this will likely lead to a deadlock.\n",
      "  pid = os.fork()\n"
     ]
    },
    {
     "name": "stdout",
     "output_type": "stream",
     "text": [
      "The RMSE of the model with the best parameter is 1.4159382715000444\n"
     ]
    },
    {
     "name": "stderr",
     "output_type": "stream",
     "text": [
      "/usr/local/lib/python3.10/dist-packages/sklearn/utils/validation.py:1143: DataConversionWarning: A column-vector y was passed when a 1d array was expected. Please change the shape of y to (n_samples, ), for example using ravel().\n",
      "  y = column_or_1d(y, warn=True)\n"
     ]
    }
   ],
   "source": [
    "from sklearn.metrics import mean_squared_error\n",
    "from sklearn.svm import SVR\n",
    "from sklearn.model_selection import RandomizedSearchCV\n",
    "\n",
    "# Use random search to search for the best parameter for the model\n",
    "\n",
    "svr = SVR()\n",
    "\n",
    "param_distributions = {\n",
    "    'C': [0.001, 0.01, 0.1, 1, 10],\n",
    "    'gamma': ['scale', 'auto', 0.01, 0.1, 0.5, 1],\n",
    "    'kernel': ['linear', 'poly', 'rbf', 'sigmoid']\n",
    "}\n",
    "\n",
    "random_search = RandomizedSearchCV(\n",
    "    estimator = svr,\n",
    "    param_distributions = param_distributions,\n",
    "    n_iter = 20,\n",
    "    scoring='neg_root_mean_squared_error',\n",
    "    cv=3,\n",
    "    random_state=42,\n",
    "    n_jobs=-1\n",
    ")\n",
    "\n",
    "random_search.fit(X_train, y_train)\n",
    "\n",
    "# Best model\n",
    "rmse = -random_search.best_score_\n",
    "print(\"The RMSE of the model with the best parameter is\",rmse)"
   ]
  },
  {
   "cell_type": "code",
   "execution_count": 63,
   "metadata": {
    "colab": {
     "base_uri": "https://localhost:8080/"
    },
    "id": "bUQg4l_yDavC",
    "outputId": "5cfb041a-a82d-4f5d-8476-ba9e838e4682"
   },
   "outputs": [
    {
     "name": "stdout",
     "output_type": "stream",
     "text": [
      "The best model is SVR(C=0.001, gamma='auto', kernel='linear')\n"
     ]
    }
   ],
   "source": [
    "best_model = random_search.best_estimator_\n",
    "print(\"The best model is\",best_model)"
   ]
  },
  {
   "cell_type": "code",
   "execution_count": 64,
   "metadata": {
    "colab": {
     "base_uri": "https://localhost:8080/"
    },
    "id": "mziDmEqYDdT_",
    "outputId": "97c26e1f-1f06-4e53-e6d4-5a3e5dddd647"
   },
   "outputs": [
    {
     "name": "stdout",
     "output_type": "stream",
     "text": [
      "The RMSE on validation set is 2.1865756928239213\n"
     ]
    }
   ],
   "source": [
    "y_val_pred = best_model.predict(X_valid)\n",
    "\n",
    "# Calculate RMSE\n",
    "rmse_val = mean_squared_error(y_valid, y_val_pred, squared=False)\n",
    "print(\"The RMSE on validation set is\", rmse_val)"
   ]
  },
  {
   "cell_type": "code",
   "execution_count": 65,
   "metadata": {
    "colab": {
     "base_uri": "https://localhost:8080/"
    },
    "id": "HwmyZQXeDfUj",
    "outputId": "6aaff6bd-ae33-4e41-f186-3850916fae47"
   },
   "outputs": [
    {
     "name": "stdout",
     "output_type": "stream",
     "text": [
      "The RMSE on test set is 1.476589283222646\n"
     ]
    }
   ],
   "source": [
    "y_test_pred = best_model.predict(X_test)\n",
    "\n",
    "# Calculate RMSE\n",
    "rmse_test = mean_squared_error(y_test, y_test_pred, squared=False)\n",
    "print(\"The RMSE on test set is\", rmse_test)"
   ]
  },
  {
   "cell_type": "code",
   "execution_count": 66,
   "metadata": {
    "colab": {
     "base_uri": "https://localhost:8080/"
    },
    "id": "63aPl8LeDmsf",
    "outputId": "68d60dc3-3eed-430b-bbdc-c2564bd02fec"
   },
   "outputs": [
    {
     "data": {
      "text/plain": [
       "array([ 0.33614762, -0.24577747,  0.40506648,  1.0194197 , -0.42186091,\n",
       "       -0.20623613,  0.77829549,  0.53174712,  0.16500191, -0.64925601,\n",
       "       -0.34995599,  0.22035702, -0.19178858,  0.98214273, -0.64495686,\n",
       "       -0.43623542,  0.00214118,  0.61465805, -0.51509613, -0.2541934 ,\n",
       "       -0.48137027,  2.07740291, -0.48031872, -0.48031872, -0.48031872,\n",
       "       -0.48137027,  2.07740291, -0.48031872, -0.48031872, -0.48137027,\n",
       "       -0.50749417, -0.50853339,  1.9664392 , -0.50749417, -0.50749417,\n",
       "       -0.50749417, -0.50853339,  1.9664392 , -0.50749417, -0.50749417,\n",
       "       -0.50853339, -0.50853339, -0.50957224,  1.9624303 , -0.50853339,\n",
       "       -0.50853339, -0.50853339, -0.50853339,  1.9664392 , -0.50749417,\n",
       "       -0.50125052, -0.50125052, -0.50125052, -0.50229216,  1.99087322,\n",
       "       -0.50125052, -0.50125052, -0.50229216, -0.50229216,  1.99087322,\n",
       "        1.99501039, -0.50020846, -0.50020846, -0.50020846, -0.50125052,\n",
       "        1.99501039, -0.50020846, -0.50020846, -0.50125052, -0.50125052])"
      ]
     },
     "execution_count": 66,
     "metadata": {},
     "output_type": "execute_result"
    }
   ],
   "source": [
    "X_predict[-1]"
   ]
  },
  {
   "cell_type": "markdown",
   "metadata": {
    "id": "DnQ_zIm8DsSE"
   },
   "source": [
    "**Stock MSFT Prediction**"
   ]
  },
  {
   "cell_type": "code",
   "execution_count": 67,
   "metadata": {
    "colab": {
     "base_uri": "https://localhost:8080/"
    },
    "id": "Xu6gZr_RDpS8",
    "outputId": "fd2822db-533e-43fa-f5ed-082f0506d0d3"
   },
   "outputs": [
    {
     "name": "stdout",
     "output_type": "stream",
     "text": [
      "For stock MSFT, the predict percent of price change on 2024.05.24 is 0.11301573436796555\n"
     ]
    }
   ],
   "source": [
    "X_last10 = X_predict[-1:]\n",
    "y_last10_pred = best_model.predict(X_last10)\n",
    "StockMSFT_pred = y_last10_pred[0]\n",
    "print(\"For stock \"+training_stock+\", the predict percent of price change on 2024.05.24 is\", StockMSFT_pred)"
   ]
  },
  {
   "cell_type": "code",
   "execution_count": 68,
   "metadata": {
    "colab": {
     "base_uri": "https://localhost:8080/"
    },
    "id": "e39JjonhDy89",
    "outputId": "0e30be05-4198-4a38-a411-1bedd2ca7122"
   },
   "outputs": [
    {
     "name": "stdout",
     "output_type": "stream",
     "text": [
      "For stock MSFT, the real percent of price change on 2024.05.24 is [0.7400477]\n"
     ]
    }
   ],
   "source": [
    "StockMSFT_real = y_predict[-1]\n",
    "print(\"For stock \"+training_stock+\", the real percent of price change on 2024.05.24 is\", StockMSFT_real)"
   ]
  },
  {
   "cell_type": "markdown",
   "metadata": {
    "id": "5KPgrvO_D2Us"
   },
   "source": [
    "**Stock V Prediction**"
   ]
  },
  {
   "cell_type": "code",
   "execution_count": 69,
   "metadata": {
    "colab": {
     "base_uri": "https://localhost:8080/"
    },
    "id": "J8Bkof1-D4qa",
    "outputId": "11f86b7b-f472-457b-e95c-c365569021ba"
   },
   "outputs": [
    {
     "name": "stdout",
     "output_type": "stream",
     "text": [
      "For stock V, the predict percent of price change on 2024.05.24 is 0.19722774329980433\n"
     ]
    },
    {
     "name": "stderr",
     "output_type": "stream",
     "text": [
      "/usr/local/lib/python3.10/dist-packages/sklearn/utils/validation.py:1143: DataConversionWarning: A column-vector y was passed when a 1d array was expected. Please change the shape of y to (n_samples, ), for example using ravel().\n",
      "  y = column_or_1d(y, warn=True)\n"
     ]
    }
   ],
   "source": [
    "current_stock = \"V\"\n",
    "train, valid, test, predict = data_generator(current_stock)\n",
    "X_train, y_train = tsv_generator(train)\n",
    "X_predict, y_predict = tsv_generator(predict)\n",
    "\n",
    "X_train = scaler.fit_transform(X_train)\n",
    "X_predict = scaler.transform(X_predict)\n",
    "\n",
    "best_model.fit(X_train, y_train)\n",
    "\n",
    "X_last10 = X_predict[-1:]\n",
    "y_last10_pred = best_model.predict(X_last10)\n",
    "\n",
    "StockV_pred = y_last10_pred[0]\n",
    "print(\"For stock \"+current_stock+\", the predict percent of price change on 2024.05.24 is\", StockV_pred)"
   ]
  },
  {
   "cell_type": "code",
   "execution_count": 70,
   "metadata": {
    "colab": {
     "base_uri": "https://localhost:8080/"
    },
    "id": "mp0M60bBD8hB",
    "outputId": "4b6ee2be-6eb7-4632-b996-1f0aa5c2adef"
   },
   "outputs": [
    {
     "name": "stdout",
     "output_type": "stream",
     "text": [
      "For stock V, the real percent of price change on 2024.05.24 is [0.09480335]\n"
     ]
    }
   ],
   "source": [
    "StockV_real = y_predict[-1]\n",
    "print(\"For stock \"+current_stock+\", the real percent of price change on 2024.05.24 is\", StockV_real)"
   ]
  },
  {
   "cell_type": "markdown",
   "metadata": {
    "id": "nblKxalqD_xQ"
   },
   "source": [
    "**Stock AAPL Prediction**"
   ]
  },
  {
   "cell_type": "code",
   "execution_count": 71,
   "metadata": {
    "colab": {
     "base_uri": "https://localhost:8080/"
    },
    "id": "BozVwt2TEEze",
    "outputId": "f4125e82-3a1e-46cf-b67d-e1c0d9294bb4"
   },
   "outputs": [
    {
     "name": "stdout",
     "output_type": "stream",
     "text": [
      "For stock AAPL, the predict percent of price change on 2024.05.24 is 0.07373272360948092\n"
     ]
    },
    {
     "name": "stderr",
     "output_type": "stream",
     "text": [
      "/usr/local/lib/python3.10/dist-packages/sklearn/utils/validation.py:1143: DataConversionWarning: A column-vector y was passed when a 1d array was expected. Please change the shape of y to (n_samples, ), for example using ravel().\n",
      "  y = column_or_1d(y, warn=True)\n"
     ]
    }
   ],
   "source": [
    "current_stock = \"AAPL\"\n",
    "train, valid, test, predict = data_generator(current_stock)\n",
    "X_train, y_train = tsv_generator(train)\n",
    "X_predict, y_predict = tsv_generator(predict)\n",
    "\n",
    "X_train = scaler.fit_transform(X_train)\n",
    "X_predict = scaler.transform(X_predict)\n",
    "\n",
    "best_model.fit(X_train, y_train)\n",
    "\n",
    "X_last10 = X_predict[-1:]\n",
    "y_last10_pred = best_model.predict(X_last10)\n",
    "\n",
    "StockAAPL_pred = y_last10_pred[0]\n",
    "print(\"For stock \"+current_stock+\", the predict percent of price change on 2024.05.24 is\", StockAAPL_pred)"
   ]
  },
  {
   "cell_type": "code",
   "execution_count": 72,
   "metadata": {
    "colab": {
     "base_uri": "https://localhost:8080/"
    },
    "id": "XzqMtSBoEJc7",
    "outputId": "baae811a-0470-4ea7-ebc0-7c633794269d"
   },
   "outputs": [
    {
     "name": "stdout",
     "output_type": "stream",
     "text": [
      "For stock AAPL, the real percent of price change on 2024.05.24 is [1.65881355]\n"
     ]
    }
   ],
   "source": [
    "StockAAPL_real = y_predict[-1]\n",
    "print(\"For stock \"+current_stock+\", the real percent of price change on 2024.05.24 is\", StockAAPL_real)"
   ]
  },
  {
   "cell_type": "markdown",
   "metadata": {
    "id": "KBOAaqSkEL6P"
   },
   "source": [
    "**Now, train and hypertuning for te Index**"
   ]
  },
  {
   "cell_type": "code",
   "execution_count": 73,
   "metadata": {
    "id": "NwD7-v_JERAP"
   },
   "outputs": [],
   "source": [
    "train, valid, test, predict = data_generator(\"^DJI\")\n",
    "X_train, y_train_index = tsv_generator(train)\n",
    "X_valid, y_valid_index = tsv_generator(valid)\n",
    "X_test, y_test_index = tsv_generator(test)\n",
    "X_predict, y_predict_index = tsv_generator(predict)"
   ]
  },
  {
   "cell_type": "code",
   "execution_count": 74,
   "metadata": {
    "id": "evAoiu1tETT1"
   },
   "outputs": [],
   "source": [
    "scaler = StandardScaler()\n",
    "\n",
    "X_train_index = scaler.fit_transform(X_train)\n",
    "X_valid_index = scaler.transform(X_valid)\n",
    "X_test_index = scaler.transform(X_test)\n",
    "X_predict_index = scaler.transform(X_predict)"
   ]
  },
  {
   "cell_type": "code",
   "execution_count": 75,
   "metadata": {
    "colab": {
     "base_uri": "https://localhost:8080/"
    },
    "id": "1Ic0Y7H4Eagf",
    "outputId": "146ffb52-5302-4af1-ff21-8d86b71e2723"
   },
   "outputs": [
    {
     "name": "stdout",
     "output_type": "stream",
     "text": [
      "The RMSE of the model with the best parameter is 0.8157626568959953\n"
     ]
    },
    {
     "name": "stderr",
     "output_type": "stream",
     "text": [
      "/usr/local/lib/python3.10/dist-packages/sklearn/utils/validation.py:1143: DataConversionWarning: A column-vector y was passed when a 1d array was expected. Please change the shape of y to (n_samples, ), for example using ravel().\n",
      "  y = column_or_1d(y, warn=True)\n"
     ]
    }
   ],
   "source": [
    "svr = SVR()\n",
    "\n",
    "param_distributions = {\n",
    "    'C': [0.0001, 0.001, 0.01, 0.1, 1, 10],\n",
    "    'gamma': ['scale', 'auto', 0.01, 0.1, 0.3, 0.5, 0.7, 1, 10, 20, 50, 100],\n",
    "    'kernel': ['linear', 'poly', 'rbf', 'sigmoid']\n",
    "}\n",
    "\n",
    "random_search = RandomizedSearchCV(\n",
    "    estimator = svr,\n",
    "    param_distributions = param_distributions,\n",
    "    n_iter = 20,\n",
    "    scoring='neg_root_mean_squared_error',\n",
    "    cv=3,\n",
    "    random_state=42,\n",
    "    n_jobs=-1\n",
    ")\n",
    "\n",
    "random_search.fit(X_train_index, y_train_index)\n",
    "\n",
    "# Best model\n",
    "rmse = -random_search.best_score_\n",
    "print(\"The RMSE of the model with the best parameter is\",rmse)"
   ]
  },
  {
   "cell_type": "code",
   "execution_count": 76,
   "metadata": {
    "colab": {
     "base_uri": "https://localhost:8080/"
    },
    "id": "jtwWuXwiEcKv",
    "outputId": "66ab94a7-dce1-47d5-f9c1-d323ce57ee7c"
   },
   "outputs": [
    {
     "name": "stdout",
     "output_type": "stream",
     "text": [
      "The best model for the Index is SVR(C=0.0001, gamma=0.01, kernel='poly')\n"
     ]
    }
   ],
   "source": [
    "best_model_Index = random_search.best_estimator_\n",
    "print(\"The best model for the Index is\",best_model_Index)"
   ]
  },
  {
   "cell_type": "code",
   "execution_count": 77,
   "metadata": {
    "colab": {
     "base_uri": "https://localhost:8080/"
    },
    "id": "fwlbO3PlEfK3",
    "outputId": "5d795803-966b-4483-f99e-461e71536c1c"
   },
   "outputs": [
    {
     "name": "stdout",
     "output_type": "stream",
     "text": [
      "For Index, the RMSE on validation set is 1.5938952312527201\n"
     ]
    }
   ],
   "source": [
    "y_val_pred = best_model_Index.predict(X_valid_index)\n",
    "\n",
    "# Calculate RMSE\n",
    "rmse_val = mean_squared_error(y_valid_index, y_val_pred, squared=False)\n",
    "print(\"For Index, the RMSE on validation set is\", rmse_val)"
   ]
  },
  {
   "cell_type": "code",
   "execution_count": 78,
   "metadata": {
    "colab": {
     "base_uri": "https://localhost:8080/"
    },
    "id": "RjP9L0seEh-1",
    "outputId": "faaf0a06-ec72-4797-8255-25be6ee653ae"
   },
   "outputs": [
    {
     "name": "stdout",
     "output_type": "stream",
     "text": [
      "For Index, the RMSE on test set is 0.674280776099789\n"
     ]
    }
   ],
   "source": [
    "y_test_pred = best_model_Index.predict(X_test_index)\n",
    "\n",
    "# Calculate RMSE\n",
    "rmse_test = mean_squared_error(y_test_index, y_test_pred, squared=False)\n",
    "print(\"For Index, the RMSE on test set is\", rmse_test)"
   ]
  },
  {
   "cell_type": "code",
   "execution_count": 79,
   "metadata": {
    "colab": {
     "base_uri": "https://localhost:8080/"
    },
    "id": "qasKiCcxElDU",
    "outputId": "8fd95ee1-c41d-4e97-a6fe-14cb30c04274"
   },
   "outputs": [
    {
     "name": "stdout",
     "output_type": "stream",
     "text": [
      "The predict percent of price change of Index on 2024.05.28 is 0.05793381285985584\n"
     ]
    }
   ],
   "source": [
    "#Do the prediction for Index\n",
    "\n",
    "X_last10_index = X_predict_index[-1:]\n",
    "y_last10_pred_index = best_model_Index.predict(X_last10_index)\n",
    "Index_pred = y_last10_pred_index[0]\n",
    "print(\"The predict percent of price change of Index on 2024.05.28 is\", Index_pred)"
   ]
  },
  {
   "cell_type": "code",
   "execution_count": 80,
   "metadata": {
    "colab": {
     "base_uri": "https://localhost:8080/"
    },
    "id": "tTxrIk_VEoRi",
    "outputId": "890ec48a-32af-4a8f-e123-d925d23ace94"
   },
   "outputs": [
    {
     "name": "stdout",
     "output_type": "stream",
     "text": [
      "The predict percent of price change of Index on 2024.05.28 is [0.01107922]\n"
     ]
    }
   ],
   "source": [
    "Index_real = y_predict_index[-1]\n",
    "print(\"The predict percent of price change of Index on 2024.05.28 is\", Index_real)"
   ]
  },
  {
   "cell_type": "markdown",
   "metadata": {
    "id": "ivuSsj_dEwun"
   },
   "source": [
    "**For each of the three stocks, compare the prediction difference and real difference between the stock and Index:**"
   ]
  },
  {
   "cell_type": "markdown",
   "metadata": {
    "id": "jjSn3OU9E5oG"
   },
   "source": [
    "* Stock MSFT"
   ]
  },
  {
   "cell_type": "code",
   "execution_count": 81,
   "metadata": {
    "colab": {
     "base_uri": "https://localhost:8080/"
    },
    "id": "TfDXXVaBE1iQ",
    "outputId": "84cf14d6-038d-4907-d24c-1d3169768174"
   },
   "outputs": [
    {
     "name": "stdout",
     "output_type": "stream",
     "text": [
      "The predict difference between the Index and the stock price change is -0.05508192150810971\n",
      "The real difference between the Index and the stock price change is [-0.72896848]\n",
      "The absolute value of the distance between real and predict is [0.67388656]\n"
     ]
    }
   ],
   "source": [
    "predict_diff = Index_pred - StockMSFT_pred\n",
    "real_diff = Index_real - StockMSFT_real\n",
    "error = np.abs(real_diff-predict_diff)\n",
    "print(\"The predict difference between the Index and the stock price change is\", predict_diff)\n",
    "print(\"The real difference between the Index and the stock price change is\", real_diff)\n",
    "print(\"The absolute value of the distance between real and predict is\", error)"
   ]
  },
  {
   "cell_type": "markdown",
   "metadata": {
    "id": "QJTU4hYyFBA4"
   },
   "source": [
    "* Stock V"
   ]
  },
  {
   "cell_type": "code",
   "execution_count": 82,
   "metadata": {
    "colab": {
     "base_uri": "https://localhost:8080/"
    },
    "id": "9XWZzkyAE9m7",
    "outputId": "b34b1329-b126-43b5-a9b5-cba43d37eb2c"
   },
   "outputs": [
    {
     "name": "stdout",
     "output_type": "stream",
     "text": [
      "The predict difference between the Index and the stock price change is -0.13929393043994848\n",
      "The real difference between the Index and the stock price change is [-0.08372414]\n",
      "The absolute value of the distance between real and predict is [0.05556979]\n"
     ]
    }
   ],
   "source": [
    "predict_diff = Index_pred - StockV_pred\n",
    "real_diff = Index_real - StockV_real\n",
    "error = np.abs(real_diff-predict_diff)\n",
    "print(\"The predict difference between the Index and the stock price change is\", predict_diff)\n",
    "print(\"The real difference between the Index and the stock price change is\", real_diff)\n",
    "print(\"The absolute value of the distance between real and predict is\", error)"
   ]
  },
  {
   "cell_type": "markdown",
   "metadata": {
    "id": "QDdP15mIFCpf"
   },
   "source": [
    "* Stock AAPL"
   ]
  },
  {
   "cell_type": "code",
   "execution_count": 83,
   "metadata": {
    "colab": {
     "base_uri": "https://localhost:8080/"
    },
    "id": "9-Nx89VMFEMA",
    "outputId": "d20ccf5c-d9bc-4002-de94-580ccb89ded6"
   },
   "outputs": [
    {
     "name": "stdout",
     "output_type": "stream",
     "text": [
      "The predict difference between the Index and the stock price change is -0.015798910749625084\n",
      "The real difference between the Index and the stock price change is [-1.64773433]\n",
      "The absolute value of the distance between real and predict is [1.63193542]\n"
     ]
    }
   ],
   "source": [
    "predict_diff = Index_pred - StockAAPL_pred\n",
    "real_diff = Index_real - StockAAPL_real\n",
    "error = np.abs(real_diff-predict_diff)\n",
    "print(\"The predict difference between the Index and the stock price change is\", predict_diff)\n",
    "print(\"The real difference between the Index and the stock price change is\", real_diff)\n",
    "print(\"The absolute value of the distance between real and predict is\", error)"
   ]
  },
  {
   "cell_type": "markdown",
   "metadata": {
    "id": "oKA3__OPypce"
   },
   "source": [
    "# 5. Random Forest Model *(Sayako Mitchell)*\n",
    "\n",
    "The model I chose to investigate is Random Forest Regressor. This model was chosen because it was shown to have decently good performance on time series tasks, as demonstrated in Lecture 5 and Homework 2. [INSERT ALGORITHM]"
   ]
  },
  {
   "cell_type": "code",
   "execution_count": 84,
   "metadata": {
    "id": "3BNKIDeF0pzo"
   },
   "outputs": [],
   "source": [
    "from sklearn.ensemble import RandomForestRegressor\n",
    "from sklearn.model_selection import TimeSeriesSplit\n",
    "from sklearn.metrics import mean_squared_error\n",
    "import matplotlib.pyplot as plt\n",
    "\n",
    "train, valid, test, predict = data_generator(\"MSFT\")\n",
    "X_train, y_train = tsv_generator(train)\n",
    "X_valid, y_valid = tsv_generator(valid)\n",
    "X_test, y_test = tsv_generator(test)\n",
    "X_predict, y_predict = tsv_generator(predict)\n",
    "\n",
    "tscv = TimeSeriesSplit(n_splits=3)\n",
    "\n",
    "# Hyperparamter combinations\n",
    "max_depth_list = [1, 5, 10]\n",
    "n_estimators_list = [10, 50, 100, 200, 400]\n",
    "k = [-1, -3, -5, -7]\n",
    "alpha_list = [10**ks for ks in k]\n",
    "\n",
    "series_len = y_train.size\n",
    "\n",
    "def time_series_valid_test(X, y, n_split, valid_or_test, optimal_par=None):\n",
    "    tscv = TimeSeriesSplit(n_splits=n_split)\n",
    "    rf_rmse = []\n",
    "    i = 0\n",
    "    for train_index, test_index in tscv.split(X):\n",
    "        # Tuning\n",
    "        if valid_or_test == \"valid\":\n",
    "            for max_depth in max_depth_list:\n",
    "              for alpha in alpha_list:\n",
    "                for n_estimators in n_estimators_list:\n",
    "                    model_rf = RandomForestRegressor(random_state=42,\n",
    "                               max_depth=max_depth, ccp_alpha=alpha,\n",
    "                               n_estimators=n_estimators, n_jobs=-1)\n",
    "                    model_rf.fit(X_train, y_train.ravel())\n",
    "                    y_val_rf = model_rf.predict(X_valid)\n",
    "                    rf_rmse.append(np.sqrt(mean_squared_error(y_valid, y_val_rf)))\n",
    "\n",
    "        # Evalulate on test set\n",
    "        if valid_or_test == \"test\":\n",
    "            model_rf = RandomForestRegressor(random_state=42,\n",
    "                       max_depth=optimal_par[0], ccp_alpha=optimal_par[1], n_estimators=optimal_par[2])\n",
    "            model_rf.fit(X_train, y_train.ravel())\n",
    "            y_test_rf = model_rf.predict(X_test)\n",
    "            rf_rmse.append(np.sqrt(mean_squared_error(y_test, y_test_rf)))\n",
    "\n",
    "            # Plot the prediction for the last CV fold\n",
    "            if i == n_split:\n",
    "                plt.plot(range(series_len-test_index.size,series_len),\n",
    "                         y_test_rf, label=\"2-steps ahead prediction\")\n",
    "                plt.plot(range(series_len-test_index.size,series_len),\n",
    "                         y_test, label=\"True value\")\n",
    "                plt.legend(loc=\"upper left\")\n",
    "                plt.show()\n",
    "\n",
    "    # Average RMSE over CV folds\n",
    "    if valid_or_test == \"valid\":\n",
    "        rf_rmse = np.mean(np.array(rf_rmse).reshape(\n",
    "            n_split, len(max_depth_list)*len(n_estimators_list)*len(alpha_list)), axis=0)\n",
    "        return rf_rmse\n",
    "    if valid_or_test == \"test\":\n",
    "        rf_rmse = np.mean(rf_rmse)\n",
    "        return rf_rmse, y_test_rf"
   ]
  },
  {
   "cell_type": "markdown",
   "metadata": {
    "id": "OC_DaBrIA_G0"
   },
   "source": [
    "**Hyperparameter tuning**"
   ]
  },
  {
   "cell_type": "code",
   "execution_count": 85,
   "metadata": {
    "colab": {
     "base_uri": "https://localhost:8080/"
    },
    "id": "A-g05hEW0r-Y",
    "outputId": "7edf8858-ab85-4c1d-e665-6552372214e7"
   },
   "outputs": [
    {
     "name": "stdout",
     "output_type": "stream",
     "text": [
      "['(max_depth, alpha, n_estimators):', [1, 0.1, 10]]\n",
      "2.200358658812641\n",
      "['(max_depth, alpha, n_estimators):', [1, 0.1, 50]]\n",
      "2.1980098511659287\n",
      "['(max_depth, alpha, n_estimators):', [1, 0.1, 100]]\n",
      "2.198167246974628\n",
      "['(max_depth, alpha, n_estimators):', [1, 0.1, 200]]\n",
      "2.1988665903493554\n",
      "['(max_depth, alpha, n_estimators):', [1, 0.1, 400]]\n",
      "2.1989966866652786\n",
      "['(max_depth, alpha, n_estimators):', [1, 0.001, 10]]\n",
      "2.190559480718384\n",
      "['(max_depth, alpha, n_estimators):', [1, 0.001, 50]]\n",
      "2.1869944548764124\n",
      "['(max_depth, alpha, n_estimators):', [1, 0.001, 100]]\n",
      "2.186583855338965\n",
      "['(max_depth, alpha, n_estimators):', [1, 0.001, 200]]\n",
      "2.1862203442415766\n",
      "['(max_depth, alpha, n_estimators):', [1, 0.001, 400]]\n",
      "2.186543953907603\n",
      "['(max_depth, alpha, n_estimators):', [1, 1e-05, 10]]\n",
      "2.190559480718384\n",
      "['(max_depth, alpha, n_estimators):', [1, 1e-05, 50]]\n",
      "2.1869944548764124\n",
      "['(max_depth, alpha, n_estimators):', [1, 1e-05, 100]]\n",
      "2.186583855338965\n",
      "['(max_depth, alpha, n_estimators):', [1, 1e-05, 200]]\n",
      "2.1862203442415766\n",
      "['(max_depth, alpha, n_estimators):', [1, 1e-05, 400]]\n",
      "2.186543953907603\n",
      "['(max_depth, alpha, n_estimators):', [1, 1e-07, 10]]\n",
      "2.190559480718384\n",
      "['(max_depth, alpha, n_estimators):', [1, 1e-07, 50]]\n",
      "2.1869944548764124\n",
      "['(max_depth, alpha, n_estimators):', [1, 1e-07, 100]]\n",
      "2.186583855338965\n",
      "['(max_depth, alpha, n_estimators):', [1, 1e-07, 200]]\n",
      "2.1862203442415766\n",
      "['(max_depth, alpha, n_estimators):', [1, 1e-07, 400]]\n",
      "2.186543953907603\n",
      "['(max_depth, alpha, n_estimators):', [5, 0.1, 10]]\n",
      "2.201244003625359\n",
      "['(max_depth, alpha, n_estimators):', [5, 0.1, 50]]\n",
      "2.198323349437757\n",
      "['(max_depth, alpha, n_estimators):', [5, 0.1, 100]]\n",
      "2.1981048998730404\n",
      "['(max_depth, alpha, n_estimators):', [5, 0.1, 200]]\n",
      "2.197996893657696\n",
      "['(max_depth, alpha, n_estimators):', [5, 0.1, 400]]\n",
      "2.198097065316477\n",
      "['(max_depth, alpha, n_estimators):', [5, 0.001, 10]]\n",
      "2.216591542057547\n",
      "['(max_depth, alpha, n_estimators):', [5, 0.001, 50]]\n",
      "2.185403235045527\n",
      "['(max_depth, alpha, n_estimators):', [5, 0.001, 100]]\n",
      "2.1806185725233056\n",
      "['(max_depth, alpha, n_estimators):', [5, 0.001, 200]]\n",
      "2.1761498301447437\n",
      "['(max_depth, alpha, n_estimators):', [5, 0.001, 400]]\n",
      "2.173645269028182\n",
      "['(max_depth, alpha, n_estimators):', [5, 1e-05, 10]]\n",
      "2.2174059036221005\n",
      "['(max_depth, alpha, n_estimators):', [5, 1e-05, 50]]\n",
      "2.185014458301742\n",
      "['(max_depth, alpha, n_estimators):', [5, 1e-05, 100]]\n",
      "2.1807987239377162\n",
      "['(max_depth, alpha, n_estimators):', [5, 1e-05, 200]]\n",
      "2.176301734431822\n",
      "['(max_depth, alpha, n_estimators):', [5, 1e-05, 400]]\n",
      "2.1736249214605583\n",
      "['(max_depth, alpha, n_estimators):', [5, 1e-07, 10]]\n",
      "2.217262980676864\n",
      "['(max_depth, alpha, n_estimators):', [5, 1e-07, 50]]\n",
      "2.184973382290112\n",
      "['(max_depth, alpha, n_estimators):', [5, 1e-07, 100]]\n",
      "2.18073901326735\n",
      "['(max_depth, alpha, n_estimators):', [5, 1e-07, 200]]\n",
      "2.1762688497829896\n",
      "['(max_depth, alpha, n_estimators):', [5, 1e-07, 400]]\n",
      "2.1735946589068007\n",
      "['(max_depth, alpha, n_estimators):', [10, 0.1, 10]]\n",
      "2.201244003625359\n",
      "['(max_depth, alpha, n_estimators):', [10, 0.1, 50]]\n",
      "2.198323349437757\n",
      "['(max_depth, alpha, n_estimators):', [10, 0.1, 100]]\n",
      "2.1981048998730404\n",
      "['(max_depth, alpha, n_estimators):', [10, 0.1, 200]]\n",
      "2.197996893657696\n",
      "['(max_depth, alpha, n_estimators):', [10, 0.1, 400]]\n",
      "2.1982479955380962\n",
      "['(max_depth, alpha, n_estimators):', [10, 0.001, 10]]\n",
      "2.2234611631360477\n",
      "['(max_depth, alpha, n_estimators):', [10, 0.001, 50]]\n",
      "2.1868271496696434\n",
      "['(max_depth, alpha, n_estimators):', [10, 0.001, 100]]\n",
      "2.1816656978063387\n",
      "['(max_depth, alpha, n_estimators):', [10, 0.001, 200]]\n",
      "2.1783439032805063\n",
      "['(max_depth, alpha, n_estimators):', [10, 0.001, 400]]\n",
      "2.1778537761399845\n",
      "['(max_depth, alpha, n_estimators):', [10, 1e-05, 10]]\n",
      "2.224585804392015\n",
      "['(max_depth, alpha, n_estimators):', [10, 1e-05, 50]]\n",
      "2.1866837989327745\n",
      "['(max_depth, alpha, n_estimators):', [10, 1e-05, 100]]\n",
      "2.1811860260798057\n",
      "['(max_depth, alpha, n_estimators):', [10, 1e-05, 200]]\n",
      "2.1781783002285557\n",
      "['(max_depth, alpha, n_estimators):', [10, 1e-05, 400]]\n",
      "2.1775950652197746\n",
      "['(max_depth, alpha, n_estimators):', [10, 1e-07, 10]]\n",
      "2.224569961545637\n",
      "['(max_depth, alpha, n_estimators):', [10, 1e-07, 50]]\n",
      "2.1866378173973797\n",
      "['(max_depth, alpha, n_estimators):', [10, 1e-07, 100]]\n",
      "2.1811780525133697\n",
      "['(max_depth, alpha, n_estimators):', [10, 1e-07, 200]]\n",
      "2.178194079241091\n",
      "['(max_depth, alpha, n_estimators):', [10, 1e-07, 400]]\n",
      "2.177583771653545\n"
     ]
    }
   ],
   "source": [
    "rf_rmse = time_series_valid_test(X_train, y_train, 3, \"valid\")\n",
    "ind = 0\n",
    "min_rmse = 10\n",
    "for max_depth in max_depth_list:\n",
    "  for alpha in alpha_list:\n",
    "        for n_estimators in n_estimators_list:\n",
    "            if rf_rmse[ind] < min_rmse:\n",
    "                min_rmse = rf_rmse[ind]\n",
    "                best_md = max_depth\n",
    "                best_alpha = alpha\n",
    "                best_ne = n_estimators\n",
    "            print([\"(max_depth, alpha, n_estimators):\",[max_depth, alpha, n_estimators]])\n",
    "            print(rf_rmse[ind])\n",
    "            ind += 1"
   ]
  },
  {
   "cell_type": "code",
   "execution_count": 86,
   "metadata": {
    "colab": {
     "base_uri": "https://localhost:8080/"
    },
    "id": "0wiwmkCSAOPb",
    "outputId": "6d5e286b-6316-4c62-dd19-556b547f587c"
   },
   "outputs": [
    {
     "name": "stdout",
     "output_type": "stream",
     "text": [
      "2.1735946589068007 5 1e-07 400\n"
     ]
    },
    {
     "data": {
      "text/plain": [
       "2.1735946589068007"
      ]
     },
     "execution_count": 86,
     "metadata": {},
     "output_type": "execute_result"
    }
   ],
   "source": [
    "# validation rmse\n",
    "# hyperparameters:\n",
    "print(min_rmse, best_md, best_alpha, best_ne)\n",
    "min(rf_rmse)"
   ]
  },
  {
   "cell_type": "code",
   "execution_count": 87,
   "metadata": {
    "colab": {
     "base_uri": "https://localhost:8080/"
    },
    "id": "2_ken1pr0wLb",
    "outputId": "0c6daa18-22bf-463b-cf21-4e4859ec0c28"
   },
   "outputs": [
    {
     "data": {
      "text/plain": [
       "1.489768498761676"
      ]
     },
     "execution_count": 87,
     "metadata": {},
     "output_type": "execute_result"
    }
   ],
   "source": [
    "rf_rmse, y_test_rf = time_series_valid_test(X_test, y_test, 3, \"test\", [best_md, best_alpha, best_ne])\n",
    "rf_rmse"
   ]
  },
  {
   "cell_type": "markdown",
   "metadata": {
    "id": "9bbIaCPP01FN"
   },
   "source": [
    "After hyperparameter tuning, we see that the optimal parameters for this model are maximum depth = 5, alpha = 1e-7, and n_estimators = 400. This results in a validation RMSE of 2.1736 and a test RMSE of 1.4898."
   ]
  },
  {
   "cell_type": "markdown",
   "metadata": {
    "id": "-hVLcbDSBEn0"
   },
   "source": [
    "**Predicting the percentage change of MSFT, AAPL, V**"
   ]
  },
  {
   "cell_type": "code",
   "execution_count": 88,
   "metadata": {
    "colab": {
     "base_uri": "https://localhost:8080/"
    },
    "id": "jFYTuZjCAvtW",
    "outputId": "fbfe2f58-1282-4133-df26-2627fa414b06"
   },
   "outputs": [
    {
     "name": "stdout",
     "output_type": "stream",
     "text": [
      "For MSFT, the predicted percentage of price change on 2024.05.24 is 0.056742276887312836\n",
      "For MSFT, the real percentage of price change on 2024.05.24 is [0.7400477]\n"
     ]
    }
   ],
   "source": [
    "# MSFT\n",
    "best_rf = RandomForestRegressor(random_state=42, max_depth=best_md, ccp_alpha=best_alpha,\n",
    "                                n_estimators=best_ne)\n",
    "best_rf.fit(X_train, y_train.ravel())\n",
    "\n",
    "X_last10 = X_predict[-1:]\n",
    "y_last10_pred = best_rf.predict(X_last10)\n",
    "MSFT_pred = y_last10_pred[0]\n",
    "print(\"For MSFT, the predicted percentage of price change on 2024.05.24 is\", MSFT_pred)\n",
    "\n",
    "MSFT_real = y_predict[-1]\n",
    "print(\"For MSFT, the real percentage of price change on 2024.05.24 is\", MSFT_real)"
   ]
  },
  {
   "cell_type": "code",
   "execution_count": 89,
   "metadata": {
    "colab": {
     "base_uri": "https://localhost:8080/"
    },
    "id": "oJxdmZwWBXU1",
    "outputId": "93e0f1e3-7974-4163-96e8-fdba2949794d"
   },
   "outputs": [
    {
     "name": "stderr",
     "output_type": "stream",
     "text": [
      "<ipython-input-89-90e63383bb30>:8: DataConversionWarning: A column-vector y was passed when a 1d array was expected. Please change the shape of y to (n_samples,), for example using ravel().\n",
      "  best_rf.fit(X_train, y_train)\n"
     ]
    },
    {
     "name": "stdout",
     "output_type": "stream",
     "text": [
      "For AAPL, the predicted percentage of price change on 2024.05.24 is 0.1132373033698522\n",
      "For AAPL, the real percentage of price change on 2024.05.24 is [1.65881355]\n"
     ]
    }
   ],
   "source": [
    "# AAPL\n",
    "\n",
    "new_stock = \"AAPL\"\n",
    "train, valid, test, predict = data_generator(new_stock)\n",
    "X_train, y_train = tsv_generator(train)\n",
    "X_predict, y_predict = tsv_generator(predict)\n",
    "\n",
    "best_rf.fit(X_train, y_train)\n",
    "\n",
    "X_last10 = X_predict[-1:]\n",
    "y_last10_pred = best_rf.predict(X_last10)\n",
    "\n",
    "AAPL_pred = y_last10_pred[0]\n",
    "print(\"For \" + new_stock + \", the predicted percentage of price change on 2024.05.24 is\", AAPL_pred)\n",
    "\n",
    "AAPL_real = y_predict[-1]\n",
    "print(\"For \" + new_stock + \", the real percentage of price change on 2024.05.24 is\", AAPL_real)"
   ]
  },
  {
   "cell_type": "code",
   "execution_count": 90,
   "metadata": {
    "colab": {
     "base_uri": "https://localhost:8080/"
    },
    "id": "RPW0mkTeBcLO",
    "outputId": "18c23597-3675-49ce-8482-9e5097fa6ac8"
   },
   "outputs": [
    {
     "name": "stderr",
     "output_type": "stream",
     "text": [
      "<ipython-input-90-4189073cc654>:8: DataConversionWarning: A column-vector y was passed when a 1d array was expected. Please change the shape of y to (n_samples,), for example using ravel().\n",
      "  best_rf.fit(X_train, y_train)\n"
     ]
    },
    {
     "name": "stdout",
     "output_type": "stream",
     "text": [
      "For V, the predicted percentage of price change on 2024.05.24 is 0.13978967098247674\n",
      "For V, the real percentage of price change on 2024.05.24 is [0.09480335]\n"
     ]
    }
   ],
   "source": [
    "# V\n",
    "\n",
    "new_stock = \"V\"\n",
    "train, valid, test, predict = data_generator(new_stock)\n",
    "X_train, y_train = tsv_generator(train)\n",
    "X_predict, y_predict = tsv_generator(predict)\n",
    "\n",
    "best_rf.fit(X_train, y_train)\n",
    "\n",
    "X_last10 = X_predict[-1:]\n",
    "y_last10_pred = best_rf.predict(X_last10)\n",
    "\n",
    "V_pred = y_last10_pred[0]\n",
    "print(\"For \" + new_stock + \", the predicted percentage of price change on 2024.05.24 is\", V_pred)\n",
    "\n",
    "V_real = y_predict[-1]\n",
    "print(\"For \" + new_stock + \", the real percentage of price change on 2024.05.24 is\", V_real)"
   ]
  },
  {
   "cell_type": "markdown",
   "metadata": {
    "id": "vcsX1AIZBnOt"
   },
   "source": [
    "**Training and hyperparameter tuning on Index data**"
   ]
  },
  {
   "cell_type": "code",
   "execution_count": 91,
   "metadata": {
    "id": "vJnUIZRJBvNe"
   },
   "outputs": [],
   "source": [
    "train, valid, test, predict = data_generator(\"^DJI\")\n",
    "X_train, y_train = tsv_generator(train)\n",
    "X_valid, y_valid = tsv_generator(valid)\n",
    "X_test, y_test = tsv_generator(test)\n",
    "X_predict, y_predict = tsv_generator(predict)"
   ]
  },
  {
   "cell_type": "code",
   "execution_count": 92,
   "metadata": {
    "colab": {
     "base_uri": "https://localhost:8080/"
    },
    "id": "zu2Xdt20ByP0",
    "outputId": "9b16c06b-614e-4873-cadd-c247035c4e15"
   },
   "outputs": [
    {
     "name": "stdout",
     "output_type": "stream",
     "text": [
      "['(max_depth, alpha, n_estimators):', [1, 0.1, 10]]\n",
      "1.5937445304053337\n",
      "['(max_depth, alpha, n_estimators):', [1, 0.1, 50]]\n",
      "1.5937124778189207\n",
      "['(max_depth, alpha, n_estimators):', [1, 0.1, 100]]\n",
      "1.5936962603590292\n",
      "['(max_depth, alpha, n_estimators):', [1, 0.1, 200]]\n",
      "1.593701469986552\n",
      "['(max_depth, alpha, n_estimators):', [1, 0.1, 400]]\n",
      "1.5937104757100082\n",
      "['(max_depth, alpha, n_estimators):', [1, 0.001, 10]]\n",
      "1.606538425677974\n",
      "['(max_depth, alpha, n_estimators):', [1, 0.001, 50]]\n",
      "1.589065145705531\n",
      "['(max_depth, alpha, n_estimators):', [1, 0.001, 100]]\n",
      "1.5937033705370978\n",
      "['(max_depth, alpha, n_estimators):', [1, 0.001, 200]]\n",
      "1.5964458064119398\n",
      "['(max_depth, alpha, n_estimators):', [1, 0.001, 400]]\n",
      "1.5942826935216914\n",
      "['(max_depth, alpha, n_estimators):', [1, 1e-05, 10]]\n",
      "1.606538425677974\n",
      "['(max_depth, alpha, n_estimators):', [1, 1e-05, 50]]\n",
      "1.589065145705531\n",
      "['(max_depth, alpha, n_estimators):', [1, 1e-05, 100]]\n",
      "1.5937033705370978\n",
      "['(max_depth, alpha, n_estimators):', [1, 1e-05, 200]]\n",
      "1.5964458064119398\n",
      "['(max_depth, alpha, n_estimators):', [1, 1e-05, 400]]\n",
      "1.5942826935216914\n",
      "['(max_depth, alpha, n_estimators):', [1, 1e-07, 10]]\n",
      "1.606538425677974\n",
      "['(max_depth, alpha, n_estimators):', [1, 1e-07, 50]]\n",
      "1.589065145705531\n",
      "['(max_depth, alpha, n_estimators):', [1, 1e-07, 100]]\n",
      "1.5937033705370978\n",
      "['(max_depth, alpha, n_estimators):', [1, 1e-07, 200]]\n",
      "1.5964458064119398\n",
      "['(max_depth, alpha, n_estimators):', [1, 1e-07, 400]]\n",
      "1.5942826935216914\n",
      "['(max_depth, alpha, n_estimators):', [5, 0.1, 10]]\n",
      "1.5937445304053337\n",
      "['(max_depth, alpha, n_estimators):', [5, 0.1, 50]]\n",
      "1.5937124778189207\n",
      "['(max_depth, alpha, n_estimators):', [5, 0.1, 100]]\n",
      "1.5936962603590292\n",
      "['(max_depth, alpha, n_estimators):', [5, 0.1, 200]]\n",
      "1.593701469986552\n",
      "['(max_depth, alpha, n_estimators):', [5, 0.1, 400]]\n",
      "1.5937104757100082\n",
      "['(max_depth, alpha, n_estimators):', [5, 0.001, 10]]\n",
      "1.6097765580807566\n",
      "['(max_depth, alpha, n_estimators):', [5, 0.001, 50]]\n",
      "1.5997147253767656\n",
      "['(max_depth, alpha, n_estimators):', [5, 0.001, 100]]\n",
      "1.6038678668978317\n",
      "['(max_depth, alpha, n_estimators):', [5, 0.001, 200]]\n",
      "1.6018308100163157\n",
      "['(max_depth, alpha, n_estimators):', [5, 0.001, 400]]\n",
      "1.607032296297904\n",
      "['(max_depth, alpha, n_estimators):', [5, 1e-05, 10]]\n",
      "1.6070146886941545\n",
      "['(max_depth, alpha, n_estimators):', [5, 1e-05, 50]]\n",
      "1.6003794767851132\n",
      "['(max_depth, alpha, n_estimators):', [5, 1e-05, 100]]\n",
      "1.6049625166760249\n",
      "['(max_depth, alpha, n_estimators):', [5, 1e-05, 200]]\n",
      "1.602304060104549\n",
      "['(max_depth, alpha, n_estimators):', [5, 1e-05, 400]]\n",
      "1.6071790508739034\n",
      "['(max_depth, alpha, n_estimators):', [5, 1e-07, 10]]\n",
      "1.607008814001338\n",
      "['(max_depth, alpha, n_estimators):', [5, 1e-07, 50]]\n",
      "1.600432347646868\n",
      "['(max_depth, alpha, n_estimators):', [5, 1e-07, 100]]\n",
      "1.6050200149313516\n",
      "['(max_depth, alpha, n_estimators):', [5, 1e-07, 200]]\n",
      "1.6023619315193736\n",
      "['(max_depth, alpha, n_estimators):', [5, 1e-07, 400]]\n",
      "1.6072227304921178\n",
      "['(max_depth, alpha, n_estimators):', [10, 0.1, 10]]\n",
      "1.5937445304053337\n",
      "['(max_depth, alpha, n_estimators):', [10, 0.1, 50]]\n",
      "1.5937124778189207\n",
      "['(max_depth, alpha, n_estimators):', [10, 0.1, 100]]\n",
      "1.5936962603590292\n",
      "['(max_depth, alpha, n_estimators):', [10, 0.1, 200]]\n",
      "1.593701469986552\n",
      "['(max_depth, alpha, n_estimators):', [10, 0.1, 400]]\n",
      "1.5937104757100082\n",
      "['(max_depth, alpha, n_estimators):', [10, 0.001, 10]]\n",
      "1.6488018931720525\n",
      "['(max_depth, alpha, n_estimators):', [10, 0.001, 50]]\n",
      "1.6133623637314412\n",
      "['(max_depth, alpha, n_estimators):', [10, 0.001, 100]]\n",
      "1.6113070933259237\n",
      "['(max_depth, alpha, n_estimators):', [10, 0.001, 200]]\n",
      "1.6103046006484696\n",
      "['(max_depth, alpha, n_estimators):', [10, 0.001, 400]]\n",
      "1.6161262539982062\n",
      "['(max_depth, alpha, n_estimators):', [10, 1e-05, 10]]\n",
      "1.6492710547774962\n",
      "['(max_depth, alpha, n_estimators):', [10, 1e-05, 50]]\n",
      "1.6164989686270144\n",
      "['(max_depth, alpha, n_estimators):', [10, 1e-05, 100]]\n",
      "1.6131079447485472\n",
      "['(max_depth, alpha, n_estimators):', [10, 1e-05, 200]]\n",
      "1.6111356845845828\n",
      "['(max_depth, alpha, n_estimators):', [10, 1e-05, 400]]\n",
      "1.616860221675512\n",
      "['(max_depth, alpha, n_estimators):', [10, 1e-07, 10]]\n",
      "1.64962429928488\n",
      "['(max_depth, alpha, n_estimators):', [10, 1e-07, 50]]\n",
      "1.6165386288825196\n",
      "['(max_depth, alpha, n_estimators):', [10, 1e-07, 100]]\n",
      "1.6130527138868171\n",
      "['(max_depth, alpha, n_estimators):', [10, 1e-07, 200]]\n",
      "1.6111212411052092\n",
      "['(max_depth, alpha, n_estimators):', [10, 1e-07, 400]]\n",
      "1.6168861747289807\n"
     ]
    }
   ],
   "source": [
    "rf_rmse = time_series_valid_test(X_train, y_train, 3, \"valid\")\n",
    "ind = 0\n",
    "min_rmse = 10\n",
    "for max_depth in max_depth_list:\n",
    "  for alpha in alpha_list:\n",
    "        for n_estimators in n_estimators_list:\n",
    "            if rf_rmse[ind] < min_rmse:\n",
    "                min_rmse = rf_rmse[ind]\n",
    "                best_md = max_depth\n",
    "                best_alpha = alpha\n",
    "                best_ne = n_estimators\n",
    "            print([\"(max_depth, alpha, n_estimators):\",[max_depth, alpha, n_estimators]])\n",
    "            print(rf_rmse[ind])\n",
    "            ind += 1"
   ]
  },
  {
   "cell_type": "code",
   "execution_count": 93,
   "metadata": {
    "colab": {
     "base_uri": "https://localhost:8080/"
    },
    "id": "S3Q46D0cB5p5",
    "outputId": "58f65636-e1a6-4043-b8b3-e86e0ac40e2c"
   },
   "outputs": [
    {
     "name": "stdout",
     "output_type": "stream",
     "text": [
      "1.589065145705531 1 0.001 50\n"
     ]
    },
    {
     "data": {
      "text/plain": [
       "1.589065145705531"
      ]
     },
     "execution_count": 93,
     "metadata": {},
     "output_type": "execute_result"
    }
   ],
   "source": [
    "# validation rmse\n",
    "# hyperparameters:\n",
    "print(min_rmse, best_md, best_alpha, best_ne)\n",
    "min(rf_rmse)"
   ]
  },
  {
   "cell_type": "code",
   "execution_count": 94,
   "metadata": {
    "colab": {
     "base_uri": "https://localhost:8080/"
    },
    "id": "xs_iu9naB8O6",
    "outputId": "ac908740-8d8b-4217-8052-36945ccb5412"
   },
   "outputs": [
    {
     "data": {
      "text/plain": [
       "0.6744007160244486"
      ]
     },
     "execution_count": 94,
     "metadata": {},
     "output_type": "execute_result"
    }
   ],
   "source": [
    "# test rmse\n",
    "rf_rmse, y_test_rf = time_series_valid_test(X_test, y_test, 3, \"test\", [best_md, best_alpha, best_ne])\n",
    "rf_rmse"
   ]
  },
  {
   "cell_type": "code",
   "execution_count": 95,
   "metadata": {
    "colab": {
     "base_uri": "https://localhost:8080/",
     "height": 112
    },
    "id": "sVd3K-vNCBU0",
    "outputId": "ccd7d9e9-37a9-446f-ec97-b7b148c16b71"
   },
   "outputs": [
    {
     "data": {
      "text/html": [
       "<style>#sk-container-id-1 {color: black;background-color: white;}#sk-container-id-1 pre{padding: 0;}#sk-container-id-1 div.sk-toggleable {background-color: white;}#sk-container-id-1 label.sk-toggleable__label {cursor: pointer;display: block;width: 100%;margin-bottom: 0;padding: 0.3em;box-sizing: border-box;text-align: center;}#sk-container-id-1 label.sk-toggleable__label-arrow:before {content: \"▸\";float: left;margin-right: 0.25em;color: #696969;}#sk-container-id-1 label.sk-toggleable__label-arrow:hover:before {color: black;}#sk-container-id-1 div.sk-estimator:hover label.sk-toggleable__label-arrow:before {color: black;}#sk-container-id-1 div.sk-toggleable__content {max-height: 0;max-width: 0;overflow: hidden;text-align: left;background-color: #f0f8ff;}#sk-container-id-1 div.sk-toggleable__content pre {margin: 0.2em;color: black;border-radius: 0.25em;background-color: #f0f8ff;}#sk-container-id-1 input.sk-toggleable__control:checked~div.sk-toggleable__content {max-height: 200px;max-width: 100%;overflow: auto;}#sk-container-id-1 input.sk-toggleable__control:checked~label.sk-toggleable__label-arrow:before {content: \"▾\";}#sk-container-id-1 div.sk-estimator input.sk-toggleable__control:checked~label.sk-toggleable__label {background-color: #d4ebff;}#sk-container-id-1 div.sk-label input.sk-toggleable__control:checked~label.sk-toggleable__label {background-color: #d4ebff;}#sk-container-id-1 input.sk-hidden--visually {border: 0;clip: rect(1px 1px 1px 1px);clip: rect(1px, 1px, 1px, 1px);height: 1px;margin: -1px;overflow: hidden;padding: 0;position: absolute;width: 1px;}#sk-container-id-1 div.sk-estimator {font-family: monospace;background-color: #f0f8ff;border: 1px dotted black;border-radius: 0.25em;box-sizing: border-box;margin-bottom: 0.5em;}#sk-container-id-1 div.sk-estimator:hover {background-color: #d4ebff;}#sk-container-id-1 div.sk-parallel-item::after {content: \"\";width: 100%;border-bottom: 1px solid gray;flex-grow: 1;}#sk-container-id-1 div.sk-label:hover label.sk-toggleable__label {background-color: #d4ebff;}#sk-container-id-1 div.sk-serial::before {content: \"\";position: absolute;border-left: 1px solid gray;box-sizing: border-box;top: 0;bottom: 0;left: 50%;z-index: 0;}#sk-container-id-1 div.sk-serial {display: flex;flex-direction: column;align-items: center;background-color: white;padding-right: 0.2em;padding-left: 0.2em;position: relative;}#sk-container-id-1 div.sk-item {position: relative;z-index: 1;}#sk-container-id-1 div.sk-parallel {display: flex;align-items: stretch;justify-content: center;background-color: white;position: relative;}#sk-container-id-1 div.sk-item::before, #sk-container-id-1 div.sk-parallel-item::before {content: \"\";position: absolute;border-left: 1px solid gray;box-sizing: border-box;top: 0;bottom: 0;left: 50%;z-index: -1;}#sk-container-id-1 div.sk-parallel-item {display: flex;flex-direction: column;z-index: 1;position: relative;background-color: white;}#sk-container-id-1 div.sk-parallel-item:first-child::after {align-self: flex-end;width: 50%;}#sk-container-id-1 div.sk-parallel-item:last-child::after {align-self: flex-start;width: 50%;}#sk-container-id-1 div.sk-parallel-item:only-child::after {width: 0;}#sk-container-id-1 div.sk-dashed-wrapped {border: 1px dashed gray;margin: 0 0.4em 0.5em 0.4em;box-sizing: border-box;padding-bottom: 0.4em;background-color: white;}#sk-container-id-1 div.sk-label label {font-family: monospace;font-weight: bold;display: inline-block;line-height: 1.2em;}#sk-container-id-1 div.sk-label-container {text-align: center;}#sk-container-id-1 div.sk-container {/* jupyter's `normalize.less` sets `[hidden] { display: none; }` but bootstrap.min.css set `[hidden] { display: none !important; }` so we also need the `!important` here to be able to override the default hidden behavior on the sphinx rendered scikit-learn.org. See: https://github.com/scikit-learn/scikit-learn/issues/21755 */display: inline-block !important;position: relative;}#sk-container-id-1 div.sk-text-repr-fallback {display: none;}</style><div id=\"sk-container-id-1\" class=\"sk-top-container\"><div class=\"sk-text-repr-fallback\"><pre>RandomForestRegressor(ccp_alpha=0.001, max_depth=1, n_estimators=50,\n",
       "                      random_state=42)</pre><b>In a Jupyter environment, please rerun this cell to show the HTML representation or trust the notebook. <br />On GitHub, the HTML representation is unable to render, please try loading this page with nbviewer.org.</b></div><div class=\"sk-container\" hidden><div class=\"sk-item\"><div class=\"sk-estimator sk-toggleable\"><input class=\"sk-toggleable__control sk-hidden--visually\" id=\"sk-estimator-id-1\" type=\"checkbox\" checked><label for=\"sk-estimator-id-1\" class=\"sk-toggleable__label sk-toggleable__label-arrow\">RandomForestRegressor</label><div class=\"sk-toggleable__content\"><pre>RandomForestRegressor(ccp_alpha=0.001, max_depth=1, n_estimators=50,\n",
       "                      random_state=42)</pre></div></div></div></div></div>"
      ],
      "text/plain": [
       "RandomForestRegressor(ccp_alpha=0.001, max_depth=1, n_estimators=50,\n",
       "                      random_state=42)"
      ]
     },
     "execution_count": 95,
     "metadata": {},
     "output_type": "execute_result"
    }
   ],
   "source": [
    "best_rf_index = RandomForestRegressor(random_state=42, max_depth=best_md, ccp_alpha=best_alpha,\n",
    "                                n_estimators=best_ne)\n",
    "best_rf_index.fit(X_train, y_train.ravel())"
   ]
  },
  {
   "cell_type": "markdown",
   "metadata": {
    "id": "T6Kfc813CHVN"
   },
   "source": [
    "**Predicting the percantage change of the Index**"
   ]
  },
  {
   "cell_type": "code",
   "execution_count": 96,
   "metadata": {
    "colab": {
     "base_uri": "https://localhost:8080/"
    },
    "id": "ObvzSKuUCOGr",
    "outputId": "68255110-8c06-4187-c9fe-0bab627b49b5"
   },
   "outputs": [
    {
     "name": "stdout",
     "output_type": "stream",
     "text": [
      "The predicted percentage of price change of the Dow Jones Index on 2024.05.24 is 0.03739496402891866\n",
      "The predicted percentage of price change of the Dow Jones Index on 2024.05.24 is [0.01107922]\n"
     ]
    }
   ],
   "source": [
    "X_last10 = X_predict[-1:]\n",
    "y_last10_pred = best_rf_index.predict(X_last10)\n",
    "index_pred = y_last10_pred[0]\n",
    "print(\"The predicted percentage of price change of the Dow Jones Index on 2024.05.24 is\", index_pred)\n",
    "\n",
    "index_real = y_predict[-1]\n",
    "print(\"The predicted percentage of price change of the Dow Jones Index on 2024.05.24 is\", index_real)"
   ]
  },
  {
   "cell_type": "markdown",
   "metadata": {
    "id": "ZyDghfGRCUWo"
   },
   "source": [
    "**Comparing each stock and the Index**"
   ]
  },
  {
   "cell_type": "code",
   "execution_count": 97,
   "metadata": {
    "colab": {
     "base_uri": "https://localhost:8080/"
    },
    "id": "kks8_M0JCQ_M",
    "outputId": "19d7056b-3d51-4ff2-bf77-cf16b5f1f44f"
   },
   "outputs": [
    {
     "name": "stdout",
     "output_type": "stream",
     "text": [
      "The predicted difference between the Index and the stock price change is -0.019347312858394174\n",
      "The real difference between the Index and the stock price change is [-0.72896848]\n",
      "The absolute value of the distance between real and predict is [0.70962117]\n"
     ]
    }
   ],
   "source": [
    "# MSFT\n",
    "\n",
    "predict_diff = index_pred - MSFT_pred\n",
    "real_diff = index_real - MSFT_real\n",
    "error = np.abs(real_diff - predict_diff)\n",
    "print(\"The predicted difference between the Index and the stock price change is\", predict_diff)\n",
    "print(\"The real difference between the Index and the stock price change is\", real_diff)\n",
    "print(\"The absolute value of the distance between real and predict is\", error)"
   ]
  },
  {
   "cell_type": "code",
   "execution_count": 98,
   "metadata": {
    "colab": {
     "base_uri": "https://localhost:8080/"
    },
    "id": "hK29xnqFCbC6",
    "outputId": "2dc9890f-07b2-4bc2-8912-d8d8a502c0ac"
   },
   "outputs": [
    {
     "name": "stdout",
     "output_type": "stream",
     "text": [
      "The predicted difference between the Index and the stock price change is -0.07584233934093354\n",
      "The real difference between the Index and the stock price change is [-1.64773433]\n",
      "The absolute value of the distance between real and predict is [1.57189199]\n"
     ]
    }
   ],
   "source": [
    "# AAPL\n",
    "\n",
    "predict_diff = index_pred - AAPL_pred\n",
    "real_diff = index_real - AAPL_real\n",
    "error = np.abs(real_diff - predict_diff)\n",
    "print(\"The predicted difference between the Index and the stock price change is\", predict_diff)\n",
    "print(\"The real difference between the Index and the stock price change is\", real_diff)\n",
    "print(\"The absolute value of the distance between real and predict is\", error)"
   ]
  },
  {
   "cell_type": "code",
   "execution_count": 99,
   "metadata": {
    "colab": {
     "base_uri": "https://localhost:8080/"
    },
    "id": "CqwfgRYnCc9D",
    "outputId": "a54e80ec-946c-42a0-b1db-4aa0063ef29e"
   },
   "outputs": [
    {
     "name": "stdout",
     "output_type": "stream",
     "text": [
      "The predicted difference between the Index and the stock price change is -0.10239470695355808\n",
      "The real difference between the Index and the stock price change is [-0.08372414]\n",
      "The absolute value of the distance between real and predict is [0.01867057]\n"
     ]
    }
   ],
   "source": [
    "# V\n",
    "\n",
    "predict_diff = index_pred - V_pred\n",
    "real_diff = index_real - V_real\n",
    "error = np.abs(real_diff-predict_diff)\n",
    "print(\"The predicted difference between the Index and the stock price change is\", predict_diff)\n",
    "print(\"The real difference between the Index and the stock price change is\", real_diff)\n",
    "print(\"The absolute value of the distance between real and predict is\", error)"
   ]
  },
  {
   "cell_type": "markdown",
   "metadata": {
    "id": "Nd0MydO2zDqe"
   },
   "source": [
    "# 6. Results Comparison *Charlie Yin*\n",
    "\n",
    "| Model | Predicted Difference                             | Real Difference                                    | Absolute Distance                               |\n",
    "|-------|--------------------------------------------------|----------------------------------------------------|-------------------------------------------------|\n",
    "| RNN   | MSFT: 0.16339877 V: 0.15415367 AAPL: 0.14622732  | MSFT: -0.72896848 V: -0.08372414 AAPL: -1.64773433 | MSFT: 0.892367 V: 0.23787781 AAPL: 1.79396165   |\n",
    "| SVM   | MSFT: -0.0550819 V: -0.1392939 AAPL:  -0.0157989 | MSFT: -0.72896848 V: -0.08372414 AAPL: -1.64773433 | MSFT: 0.67388656 V: 0.05556979 AAPL: 1.63193542 |\n",
    "| RF    | MSFT: -0.0193473 V: -0.1023947 AAPL: -0.0758423  | MSFT: -0.72896848 V: -0.08372414 AAPL: -1.64773433 | MSFT: 0.70962117 V: 0.01867057 AAPL: 1.57189199 |"
   ]
  },
  {
   "cell_type": "markdown",
   "metadata": {
    "id": "_a_hSUg9zsut"
   },
   "source": [
    "# 7. Conclusion *Charlie + Saya*\n",
    "\n",
    "For the RNN-LSTM model:\n",
    "We predicted the price change of MSFT (Microsoft) will be 0.0983, and the actual price change is 0.74. The direction is correct and the value difference is a little bit large.\n",
    "\n",
    "We predicted the price change of V (Visa) is around 0.1075, and the actual price change is around 0.09848. The direction is correct and the value difference is smaller.\n",
    "\n",
    "We predicted the price change of AAPL (Apple) is around 0.11548 and the actual price change of AAPL is around 1.6588. The direction is correct, but the value difference is kind large.\n",
    "\n",
    "We predicted the Index price change is around 0.2617, and the actual price change is around 0.011, the direction is correct and the value difference is also a little bit large.\n",
    "\n",
    "We predicted that the Index price change would be higher than the MSFT price change by 0.16339, but actually the stock outperform the index. The direction is not correct and the value difference is 0.63398.\n",
    "\n",
    "We predicted that the index price change will be higher than the V price change, but actually V outperform the index. The direction is not correct and the difference is also larger.\n",
    "\n",
    "We predicted that the index price change will be larger than the AAPL price change, but actually AAPL outperform the index, and difference is larger.\n",
    "\n",
    "In conclusion, for RNN-LSTM model, on stock price change predictions, it does well on directions and not bad on values. But for the outperformance predictions, it does not do very well.\n",
    "\n",
    "For SVM model\n",
    "\n",
    "We predicted the price change of MSFT (Microsoft) will be 0.11302, and the actual price change is 0.74. The direction is correct and the value difference is a little bit large.\n",
    "\n",
    "We predicted the price change of V (Visa) is around 0.197228, and the actual price change is around 0.09848. The direction is correct and the value difference is smaller.\n",
    "\n",
    "We predicted the price change of AAPL (Apple) is around 0.073732 and the actual price change of AAPL is around 1.6588. The direction is correct, but the value difference is kind large.\n",
    "\n",
    "We predicted the Index price change is around 0.057934, and the actual price change is around 0.011, the direction is correct and the value difference is reasonable.\n",
    "\n",
    "We predicted that the MSFT Stock price change would be higher than the Index price change by 0.05508, but the actual difference is 0.72896, which is larger. The direction is correct and the value difference is 0.67388.\n",
    "\n",
    "We predicted that the Stock price change will be higher than the Index change, and it is true.\n",
    "\n",
    "We predicted that the AAPL stock price change will be larger than the Index price change, and actually AAPL outperforms the index.\n",
    "\n",
    "In conclusion, for SVM model, on stock price change predictions, it does well on directions and not bad on values. For the outperformance predictions, its performance is in a reasonable range and the signs for prediction is correct.\n",
    "\n",
    "For Random Forest Model:\n",
    "\n",
    "We predicted that the price change of MSFT will be around 0.0567, it is actually 0.74, so the direction is correct and value difference is large.\n",
    "\n",
    "We predicted that the price change of AAPL is 0.11, but it actually 1.6588, so the direction is correct, but the value difference is larger.\n",
    "\n",
    "We predicted that the price change of V is 0.1397, and it is actually 0.0948, the direction is correct, and the value difference is smaller.\n",
    "\n",
    "We predicted that the price change of the Index is 0.03739, and it’s actually 0.011, the direction is correct, and the value difference is good.\n",
    "\n",
    "We predicted that MSFT will outperform by 0.019, and it’s actually that the MSFT does not outperform the index. The value difference is large.\n",
    "\n",
    "We predicted that AAPL will outperform the index by around 0.0758, but it actually outperformed y 1.6477, so the direction is correct, but the value difference is large.\n",
    "\n",
    "We predicted that V will outperform by 0.1024, and it actually outperformed by 0.083, the direction is correct and the value difference is small.\n",
    "\n",
    "In conclusion, the Random Forest Model performs good on predicting the direction of stock price changes but the value difference is larger. In terms of ouperformance, it can also do good job on predicting the direction, but the value difference is large for AAPL and MSFT.\n"
   ]
  },
  {
   "cell_type": "code",
   "execution_count": null,
   "metadata": {},
   "outputs": [],
   "source": []
  },
  {
   "cell_type": "code",
   "execution_count": null,
   "metadata": {},
   "outputs": [],
   "source": []
  }
 ],
 "metadata": {
  "colab": {
   "provenance": []
  },
  "kernelspec": {
   "display_name": "Python 3 (ipykernel)",
   "language": "python",
   "name": "python3"
  },
  "language_info": {
   "codemirror_mode": {
    "name": "ipython",
    "version": 3
   },
   "file_extension": ".py",
   "mimetype": "text/x-python",
   "name": "python",
   "nbconvert_exporter": "python",
   "pygments_lexer": "ipython3",
   "version": "3.9.13"
  }
 },
 "nbformat": 4,
 "nbformat_minor": 1
}
